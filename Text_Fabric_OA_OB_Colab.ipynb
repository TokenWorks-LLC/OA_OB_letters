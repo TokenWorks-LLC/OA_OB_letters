{
  "cells": [
    {
      "cell_type": "code",
      "execution_count": 1,
      "metadata": {
        "colab": {
          "base_uri": "https://localhost:8080/"
        },
        "id": "PRc6SF1kRZrX",
        "outputId": "348d8bb6-fb6e-4381-fad4-228964843a57"
      },
      "outputs": [
        {
          "output_type": "stream",
          "name": "stdout",
          "text": [
            "Mounted at /content/drive\n"
          ]
        }
      ],
      "source": [
        "from google.colab import drive\n",
        "drive.mount('/content/drive')"
      ]
    },
    {
      "cell_type": "code",
      "execution_count": 2,
      "metadata": {
        "id": "2sgHco00O-PP"
      },
      "outputs": [],
      "source": [
        "import pandas as pd"
      ]
    },
    {
      "cell_type": "code",
      "execution_count": 3,
      "metadata": {
        "colab": {
          "base_uri": "https://localhost:8080/"
        },
        "id": "3uzADPL-RxS4",
        "outputId": "085fbba7-e493-42d3-fb1e-7eb559f54ff0"
      },
      "outputs": [
        {
          "output_type": "stream",
          "name": "stdout",
          "text": [
            "Collecting text-fabric\n",
            "  Downloading text_fabric-13.0.13-py3-none-any.whl.metadata (1.9 kB)\n",
            "Requirement already satisfied: wheel in /usr/local/lib/python3.12/dist-packages (from text-fabric) (0.45.1)\n",
            "Requirement already satisfied: markdown>=3.4.1 in /usr/local/lib/python3.12/dist-packages (from text-fabric) (3.8.2)\n",
            "Requirement already satisfied: ipython in /usr/local/lib/python3.12/dist-packages (from text-fabric) (7.34.0)\n",
            "Requirement already satisfied: pyyaml>=5.3 in /usr/local/lib/python3.12/dist-packages (from text-fabric) (6.0.2)\n",
            "Requirement already satisfied: flask in /usr/local/lib/python3.12/dist-packages (from text-fabric) (3.1.2)\n",
            "Requirement already satisfied: requests in /usr/local/lib/python3.12/dist-packages (from text-fabric) (2.32.4)\n",
            "Requirement already satisfied: blinker>=1.9.0 in /usr/local/lib/python3.12/dist-packages (from flask->text-fabric) (1.9.0)\n",
            "Requirement already satisfied: click>=8.1.3 in /usr/local/lib/python3.12/dist-packages (from flask->text-fabric) (8.2.1)\n",
            "Requirement already satisfied: itsdangerous>=2.2.0 in /usr/local/lib/python3.12/dist-packages (from flask->text-fabric) (2.2.0)\n",
            "Requirement already satisfied: jinja2>=3.1.2 in /usr/local/lib/python3.12/dist-packages (from flask->text-fabric) (3.1.6)\n",
            "Requirement already satisfied: markupsafe>=2.1.1 in /usr/local/lib/python3.12/dist-packages (from flask->text-fabric) (3.0.2)\n",
            "Requirement already satisfied: werkzeug>=3.1.0 in /usr/local/lib/python3.12/dist-packages (from flask->text-fabric) (3.1.3)\n",
            "Requirement already satisfied: setuptools>=18.5 in /usr/local/lib/python3.12/dist-packages (from ipython->text-fabric) (75.2.0)\n",
            "Collecting jedi>=0.16 (from ipython->text-fabric)\n",
            "  Downloading jedi-0.19.2-py2.py3-none-any.whl.metadata (22 kB)\n",
            "Requirement already satisfied: decorator in /usr/local/lib/python3.12/dist-packages (from ipython->text-fabric) (4.4.2)\n",
            "Requirement already satisfied: pickleshare in /usr/local/lib/python3.12/dist-packages (from ipython->text-fabric) (0.7.5)\n",
            "Requirement already satisfied: traitlets>=4.2 in /usr/local/lib/python3.12/dist-packages (from ipython->text-fabric) (5.7.1)\n",
            "Requirement already satisfied: prompt-toolkit!=3.0.0,!=3.0.1,<3.1.0,>=2.0.0 in /usr/local/lib/python3.12/dist-packages (from ipython->text-fabric) (3.0.52)\n",
            "Requirement already satisfied: pygments in /usr/local/lib/python3.12/dist-packages (from ipython->text-fabric) (2.19.2)\n",
            "Requirement already satisfied: backcall in /usr/local/lib/python3.12/dist-packages (from ipython->text-fabric) (0.2.0)\n",
            "Requirement already satisfied: matplotlib-inline in /usr/local/lib/python3.12/dist-packages (from ipython->text-fabric) (0.1.7)\n",
            "Requirement already satisfied: pexpect>4.3 in /usr/local/lib/python3.12/dist-packages (from ipython->text-fabric) (4.9.0)\n",
            "Requirement already satisfied: charset_normalizer<4,>=2 in /usr/local/lib/python3.12/dist-packages (from requests->text-fabric) (3.4.3)\n",
            "Requirement already satisfied: idna<4,>=2.5 in /usr/local/lib/python3.12/dist-packages (from requests->text-fabric) (3.10)\n",
            "Requirement already satisfied: urllib3<3,>=1.21.1 in /usr/local/lib/python3.12/dist-packages (from requests->text-fabric) (2.5.0)\n",
            "Requirement already satisfied: certifi>=2017.4.17 in /usr/local/lib/python3.12/dist-packages (from requests->text-fabric) (2025.8.3)\n",
            "Requirement already satisfied: parso<0.9.0,>=0.8.4 in /usr/local/lib/python3.12/dist-packages (from jedi>=0.16->ipython->text-fabric) (0.8.5)\n",
            "Requirement already satisfied: ptyprocess>=0.5 in /usr/local/lib/python3.12/dist-packages (from pexpect>4.3->ipython->text-fabric) (0.7.0)\n",
            "Requirement already satisfied: wcwidth in /usr/local/lib/python3.12/dist-packages (from prompt-toolkit!=3.0.0,!=3.0.1,<3.1.0,>=2.0.0->ipython->text-fabric) (0.2.13)\n",
            "Downloading text_fabric-13.0.13-py3-none-any.whl (8.6 MB)\n",
            "\u001b[2K   \u001b[90m━━━━━━━━━━━━━━━━━━━━━━━━━━━━━━━━━━━━━━━━\u001b[0m \u001b[32m8.6/8.6 MB\u001b[0m \u001b[31m94.2 MB/s\u001b[0m eta \u001b[36m0:00:00\u001b[0m\n",
            "\u001b[?25hDownloading jedi-0.19.2-py2.py3-none-any.whl (1.6 MB)\n",
            "\u001b[2K   \u001b[90m━━━━━━━━━━━━━━━━━━━━━━━━━━━━━━━━━━━━━━━━\u001b[0m \u001b[32m1.6/1.6 MB\u001b[0m \u001b[31m76.9 MB/s\u001b[0m eta \u001b[36m0:00:00\u001b[0m\n",
            "\u001b[?25hInstalling collected packages: jedi, text-fabric\n",
            "Successfully installed jedi-0.19.2 text-fabric-13.0.13\n"
          ]
        }
      ],
      "source": [
        "!pip install text-fabric"
      ]
    },
    {
      "cell_type": "code",
      "execution_count": 4,
      "metadata": {
        "id": "sUv9rpsAS98g"
      },
      "outputs": [],
      "source": [
        "import os\n",
        "import collections"
      ]
    },
    {
      "cell_type": "code",
      "execution_count": 5,
      "metadata": {
        "id": "7TM4sS33TAk7"
      },
      "outputs": [],
      "source": [
        "from tf.app import use"
      ]
    },
    {
      "cell_type": "markdown",
      "metadata": {
        "id": "7245y0VpV2TK"
      },
      "source": [
        "Convert the 'OATP_Transliteration_Translation_Morphology' file into .tf file so the code can read it? Have to convert to csv first"
      ]
    },
    {
      "cell_type": "code",
      "execution_count": 6,
      "metadata": {
        "colab": {
          "base_uri": "https://localhost:8080/"
        },
        "id": "BdfYIQ4NyOkN",
        "outputId": "db2ae10f-112e-4bf9-da42-766000bf1700"
      },
      "outputs": [
        {
          "output_type": "stream",
          "name": "stdout",
          "text": [
            "Cloning into 'oldassyrian'...\n",
            "remote: Enumerating objects: 236, done.\u001b[K\n",
            "remote: Counting objects: 100% (83/83), done.\u001b[K\n",
            "remote: Compressing objects: 100% (50/50), done.\u001b[K\n",
            "remote: Total 236 (delta 44), reused 65 (delta 28), pack-reused 153 (from 1)\u001b[K\n",
            "Receiving objects: 100% (236/236), 16.52 MiB | 18.07 MiB/s, done.\n",
            "Resolving deltas: 100% (68/68), done.\n"
          ]
        }
      ],
      "source": [
        "!git clone https://github.com/Nino-cunei/oldassyrian"
      ]
    },
    {
      "cell_type": "code",
      "execution_count": null,
      "metadata": {
        "id": "3g9oC4rCymR0"
      },
      "outputs": [],
      "source": [
        "#pip install text-fabric[all]"
      ]
    },
    {
      "cell_type": "code",
      "execution_count": 7,
      "metadata": {
        "colab": {
          "base_uri": "https://localhost:8080/"
        },
        "id": "Boar5lpdTH3F",
        "outputId": "703af18c-1fb3-4a44-ea07-501944ad0813"
      },
      "outputs": [
        {
          "output_type": "stream",
          "name": "stdout",
          "text": [
            "**Locating corpus resources ...**\n",
            "The requested app is not available offline\n",
            "\t~/text-fabric-data/github/Nino-cunei/oldassyrian/app not found\n",
            "Status: latest release online v0.1 versus None locally\n",
            "downloading app, main data and requested additions ...\n",
            "app: ~/text-fabric-data/github/Nino-cunei/oldassyrian/app\n",
            "data: ~/text-fabric-data/github/Nino-cunei/oldassyrian/tf/0.1\n",
            "   |     1.11s T otype                from ~/text-fabric-data/github/Nino-cunei/oldassyrian/tf/0.1\n",
            "   |       14s T oslots               from ~/text-fabric-data/github/Nino-cunei/oldassyrian/tf/0.1\n",
            "   |     0.40s T atfpost              from ~/text-fabric-data/github/Nino-cunei/oldassyrian/tf/0.1\n",
            "   |     6.38s T atf                  from ~/text-fabric-data/github/Nino-cunei/oldassyrian/tf/0.1\n",
            "   |     5.92s T sym                  from ~/text-fabric-data/github/Nino-cunei/oldassyrian/tf/0.1\n",
            "   |     5.38s T symu                 from ~/text-fabric-data/github/Nino-cunei/oldassyrian/tf/0.1\n",
            "   |     5.65s T after                from ~/text-fabric-data/github/Nino-cunei/oldassyrian/tf/0.1\n",
            "   |     1.17s T afteru               from ~/text-fabric-data/github/Nino-cunei/oldassyrian/tf/0.1\n",
            "   |     0.50s T lnno                 from ~/text-fabric-data/github/Nino-cunei/oldassyrian/tf/0.1\n",
            "   |     5.50s T symr                 from ~/text-fabric-data/github/Nino-cunei/oldassyrian/tf/0.1\n",
            "   |     0.40s T atfpre               from ~/text-fabric-data/github/Nino-cunei/oldassyrian/tf/0.1\n",
            "   |     0.03s T pnumber              from ~/text-fabric-data/github/Nino-cunei/oldassyrian/tf/0.1\n",
            "   |     0.05s T face                 from ~/text-fabric-data/github/Nino-cunei/oldassyrian/tf/0.1\n",
            "   |     5.75s T afterr               from ~/text-fabric-data/github/Nino-cunei/oldassyrian/tf/0.1\n",
            "   |      |     0.35s C __levels__           from otype, oslots, otext\n",
            "   |      |     9.60s C __order__            from otype, oslots, __levels__\n",
            "   |      |     1.02s C __rank__             from otype, __order__\n",
            "   |      |       15s C __levUp__            from otype, oslots, __rank__\n",
            "   |      |     9.24s C __levDown__          from otype, __levUp__, __rank__\n",
            "   |      |     1.96s C __characters__       from otext\n",
            "   |      |     7.58s C __boundary__         from otype, oslots, __rank__\n",
            "   |      |     2.80s C __sections__         from otype, oslots, otext, __levUp__, __levDown__, __levels__, pnumber, face, lnno\n",
            "   |     0.03s T ARK                  from ~/text-fabric-data/github/Nino-cunei/oldassyrian/tf/0.1\n",
            "   |     0.02s T author               from ~/text-fabric-data/github/Nino-cunei/oldassyrian/tf/0.1\n",
            "   |     0.00s T col                  from ~/text-fabric-data/github/Nino-cunei/oldassyrian/tf/0.1\n",
            "   |     0.02s T collection           from ~/text-fabric-data/github/Nino-cunei/oldassyrian/tf/0.1\n",
            "   |     0.03s T comment              from ~/text-fabric-data/github/Nino-cunei/oldassyrian/tf/0.1\n",
            "   |     0.06s T damage               from ~/text-fabric-data/github/Nino-cunei/oldassyrian/tf/0.1\n",
            "   |     0.02s T det                  from ~/text-fabric-data/github/Nino-cunei/oldassyrian/tf/0.1\n",
            "   |     0.01s T docnote              from ~/text-fabric-data/github/Nino-cunei/oldassyrian/tf/0.1\n",
            "   |     0.02s T docnumber            from ~/text-fabric-data/github/Nino-cunei/oldassyrian/tf/0.1\n",
            "   |     0.01s T excavation           from ~/text-fabric-data/github/Nino-cunei/oldassyrian/tf/0.1\n",
            "   |     0.00s T excised              from ~/text-fabric-data/github/Nino-cunei/oldassyrian/tf/0.1\n",
            "   |     0.11s T flags                from ~/text-fabric-data/github/Nino-cunei/oldassyrian/tf/0.1\n",
            "   |     0.03s T fraction             from ~/text-fabric-data/github/Nino-cunei/oldassyrian/tf/0.1\n",
            "   |     0.01s T genre                from ~/text-fabric-data/github/Nino-cunei/oldassyrian/tf/0.1\n",
            "   |     0.07s T grapheme             from ~/text-fabric-data/github/Nino-cunei/oldassyrian/tf/0.1\n",
            "   |     0.08s T graphemer            from ~/text-fabric-data/github/Nino-cunei/oldassyrian/tf/0.1\n",
            "   |     0.07s T graphemeu            from ~/text-fabric-data/github/Nino-cunei/oldassyrian/tf/0.1\n",
            "   |     0.02s T lang                 from ~/text-fabric-data/github/Nino-cunei/oldassyrian/tf/0.1\n",
            "   |     0.38s T langalt              from ~/text-fabric-data/github/Nino-cunei/oldassyrian/tf/0.1\n",
            "   |     0.43s T ln                   from ~/text-fabric-data/github/Nino-cunei/oldassyrian/tf/0.1\n",
            "   |     0.04s T lnc                  from ~/text-fabric-data/github/Nino-cunei/oldassyrian/tf/0.1\n",
            "   |     0.02s T material             from ~/text-fabric-data/github/Nino-cunei/oldassyrian/tf/0.1\n",
            "   |     0.20s T missing              from ~/text-fabric-data/github/Nino-cunei/oldassyrian/tf/0.1\n",
            "   |     0.03s T museumcode           from ~/text-fabric-data/github/Nino-cunei/oldassyrian/tf/0.1\n",
            "   |     0.02s T museumname           from ~/text-fabric-data/github/Nino-cunei/oldassyrian/tf/0.1\n",
            "   |     0.06s T object               from ~/text-fabric-data/github/Nino-cunei/oldassyrian/tf/0.1\n",
            "   |     0.00s T operator             from ~/text-fabric-data/github/Nino-cunei/oldassyrian/tf/0.1\n",
            "   |     0.00s T operatorr            from ~/text-fabric-data/github/Nino-cunei/oldassyrian/tf/0.1\n",
            "   |     0.00s T operatoru            from ~/text-fabric-data/github/Nino-cunei/oldassyrian/tf/0.1\n",
            "   |     0.02s T period               from ~/text-fabric-data/github/Nino-cunei/oldassyrian/tf/0.1\n",
            "   |     0.00s T primecol             from ~/text-fabric-data/github/Nino-cunei/oldassyrian/tf/0.1\n",
            "   |     0.05s T primeln              from ~/text-fabric-data/github/Nino-cunei/oldassyrian/tf/0.1\n",
            "   |     0.02s T pubdate              from ~/text-fabric-data/github/Nino-cunei/oldassyrian/tf/0.1\n",
            "   |     0.02s T question             from ~/text-fabric-data/github/Nino-cunei/oldassyrian/tf/0.1\n",
            "   |     5.12s T reading              from ~/text-fabric-data/github/Nino-cunei/oldassyrian/tf/0.1\n",
            "   |     3.49s T readingr             from ~/text-fabric-data/github/Nino-cunei/oldassyrian/tf/0.1\n",
            "   |     3.38s T readingu             from ~/text-fabric-data/github/Nino-cunei/oldassyrian/tf/0.1\n",
            "   |     0.01s T remarkable           from ~/text-fabric-data/github/Nino-cunei/oldassyrian/tf/0.1\n",
            "   |     0.00s T remarks              from ~/text-fabric-data/github/Nino-cunei/oldassyrian/tf/0.1\n",
            "   |     0.10s T repeat               from ~/text-fabric-data/github/Nino-cunei/oldassyrian/tf/0.1\n",
            "   |     0.87s T srcLn                from ~/text-fabric-data/github/Nino-cunei/oldassyrian/tf/0.1\n",
            "   |     0.50s T srcLnNum             from ~/text-fabric-data/github/Nino-cunei/oldassyrian/tf/0.1\n",
            "   |     0.55s T srcfile              from ~/text-fabric-data/github/Nino-cunei/oldassyrian/tf/0.1\n",
            "   |     0.00s T subgenre             from ~/text-fabric-data/github/Nino-cunei/oldassyrian/tf/0.1\n",
            "   |     0.01s T supplied             from ~/text-fabric-data/github/Nino-cunei/oldassyrian/tf/0.1\n",
            "   |     0.00s T trans                from ~/text-fabric-data/github/Nino-cunei/oldassyrian/tf/0.1\n",
            "   |     0.03s T transcriber          from ~/text-fabric-data/github/Nino-cunei/oldassyrian/tf/0.1\n",
            "   |     0.01s T translation@en       from ~/text-fabric-data/github/Nino-cunei/oldassyrian/tf/0.1\n",
            "   |     5.53s T type                 from ~/text-fabric-data/github/Nino-cunei/oldassyrian/tf/0.1\n",
            "   |     0.00s T uncertain            from ~/text-fabric-data/github/Nino-cunei/oldassyrian/tf/0.1\n",
            "   |     0.00s T version              from ~/text-fabric-data/github/Nino-cunei/oldassyrian/tf/0.1\n",
            "   |     0.02s T volume               from ~/text-fabric-data/github/Nino-cunei/oldassyrian/tf/0.1\n",
            "TF:\n",
            "\tTF API 13.0.13 => https:/annotation.github.io/text-fabric/tf/cheatsheet.html\n",
            "\tNino-cunei/oldassyrian/app  v3 => https:/github.com/Nino-cunei/oldassyrian/blob/master/app\n",
            "\tSearch Reference => https:/annotation.github.io/text-fabric/tf/about/searchusage.html\n",
            "Data:\n",
            "\tNino-cunei - oldassyrian 0.1 => https:/github.com/Nino-cunei/oldassyrian/blob/master/docs/about.md\n",
            "\tCharacter table => https:/nbviewer.jupyter.org/github/Nino-cunei/tfFromAtf/blob/master/programs/mapReadings.ipynb\n",
            "\tFeature docs => https:/github.com/Nino-cunei/tfFromAtf/blob/master/docs/transcription.md\n",
            "Node types:\n",
            "document                4775   160.52 =     100\n",
            "face                   11910    64.36 =     100\n",
            "line                  109860     6.98 =     100\n",
            "word                  314012     2.37        97\n",
            "cluster                82085     1.71        18\n",
            "*sign*                766501     1.00 =     100\n",
            "\n",
            " Sets: \n",
            " Features:\n",
            "Old Assyrian Documents 2000-1600: Cuneiform tablets\n",
            "\tARK                  persistent identifier of type ARK from metadata field \"UCLA Library ARK\"\n",
            "\tafter                what comes after a sign or word (- or space)\n",
            "\tafterr               what comes after a sign or word (- or space); between adjacent signs a ␣ is inserted\n",
            "\tafteru               what comes after a sign when represented as unicode (space)\n",
            "\tatf                  full atf of a sign (without cluster chars) or word (including cluster chars)\n",
            "\tatfpost              atf of cluster closings at sign\n",
            "\tatfpre               atf of cluster openings at sign\n",
            "\tauthor               author from metadata field \"Author(s)\"\n",
            "\tcol                  ATF column number\n",
            "\tcollection           collection of a document\n",
            "\tcomment              $ comment to line or inline comment to slot ($ and $)\n",
            "\tdamage               whether a sign is damaged\n",
            "\tdet                  whether a sign is a determinative gloss - between braces { }\n",
            "\tdocnote              additional remarks in the document identification\n",
            "\tdocnumber            number of a document within a collection-volume\n",
            "\texcavation           excavation number from metadata field \"Excavation no.\"\n",
            "\texcised              whether a sign is excised - between double angle brackets << >>\n",
            "\tface                 full name of a face including the enclosing object\n",
            "\tflags                sequence of flags after a sign\n",
            "\tfraction             fraction of a numeral\n",
            "\tgenre                genre from metadata field \"Genre\"\n",
            "\tgrapheme             grapheme of a sign\n",
            "\tgraphemer            grapheme of a sign using non-ascii characters\n",
            "\tgraphemeu            grapheme of a sign using cuneiform unicode characters\n",
            "\tlang                 language of a document\n",
            "\tlangalt              1 if a sign is in the alternate language (i.e. Sumerian) - between underscores _ _\n",
            "\tln                   ATF line number of a numbered line, without prime\n",
            "\tlnc                  ATF line identification of a comment line ($)\n",
            "\tlnno                 ATF line number, may be $ or #, with prime; column number prepended\n",
            "\tmaterial             material indication from metadata field \"Material\"\n",
            "\tmissing              whether a sign is missing - between square brackets [ ]\n",
            "\tmuseumcode           museum code from metadata field \"Museum no.\"\n",
            "\tmuseumname           museum name from metadata field \"Collection\"\n",
            "\tobject               name of an object of a document\n",
            "\toperator             the ! or x in a !() or x() construction\n",
            "\toperatorr            the ! or x in a !() or x() construction, represented as =, ␣\n",
            "\toperatoru            the ! or x in a !() or x() construction, represented as =, ␣\n",
            "\totype                \n",
            "\tperiod               period indication from metadata field \"Period\"\n",
            "\tpnumber              P number of a document\n",
            "\tprimecol             whether a prime is present on a column number\n",
            "\tprimeln              whether a prime is present on a line number\n",
            "\tpubdate              publication date from metadata field \"Publication date\"\n",
            "\tquestion             whether a sign has the question flag (?)\n",
            "\treading              reading of a sign\n",
            "\treadingr             reading of a sign using non-ascii characters\n",
            "\treadingu             reading of a sign using cuneiform unicode characters\n",
            "\tremarkable           whether a sign is remarkable (!)\n",
            "\tremarks              # comment to line\n",
            "\trepeat               repeat of a numeral; the value n (unknown) is represented as -1\n",
            "\tsrcLn                full line in source file\n",
            "\tsrcLnNum             line number in source file\n",
            "\tsrcfile              source file name of a document\n",
            "\tsubgenre             genre from metadata field \"Sub-genre\"\n",
            "\tsupplied             whether a sign is supplied - between angle brackets < >\n",
            "\tsym                  essential part of a sign or of a word\n",
            "\tsymr                 essential part of a sign or of a word using non-ascii characters\n",
            "\tsymu                 essential part of a sign or of a word using cuneiform unicode characters\n",
            "\ttrans                whether a line has a translation\n",
            "\ttranscriber          person who did the encoding into ATF from metadata field \"ATF source\"\n",
            "\ttranslation@ll       translation of line in language en = English\n",
            "\ttype                 name of a type of cluster or kind of sign\n",
            "\tuncertain            whether a sign is uncertain - between brackets ( )\n",
            "\tversion              version from meta data line\n",
            "\tvolume               volume of a document within a collection\n",
            "\toslots               \n",
            "\n"
          ]
        }
      ],
      "source": [
        "A = use(\"Nino-cunei/oldassyrian\", hoist=globals())"
      ]
    },
    {
      "cell_type": "code",
      "execution_count": 8,
      "metadata": {
        "colab": {
          "base_uri": "https://localhost:8080/"
        },
        "id": "Cvht22-NTNvt",
        "outputId": "18baee22-7c7b-4784-f75d-46689f5fc5ba"
      },
      "outputs": [
        {
          "output_type": "stream",
          "name": "stdout",
          "text": [
            "  0.00s Counting nodes ...\n",
            "  0.31s 1289143 nodes\n"
          ]
        }
      ],
      "source": [
        "A.indent(reset=True)\n",
        "A.info(\"Counting nodes ...\")\n",
        "\n",
        "i = 0\n",
        "for n in N.walk():\n",
        "    i += 1\n",
        "\n",
        "A.info(\"{} nodes\".format(i))"
      ]
    },
    {
      "cell_type": "code",
      "execution_count": 9,
      "metadata": {
        "colab": {
          "base_uri": "https://localhost:8080/",
          "height": 36
        },
        "id": "Twx5tdqyMyQj",
        "outputId": "6b3f7af2-4d3a-4db0-bc3a-45b0925efbd6"
      },
      "outputs": [
        {
          "output_type": "execute_result",
          "data": {
            "text/plain": [
              "'sign'"
            ],
            "application/vnd.google.colaboratory.intrinsic+json": {
              "type": "string"
            }
          },
          "metadata": {},
          "execution_count": 9
        }
      ],
      "source": [
        "F.otype.slotType"
      ]
    },
    {
      "cell_type": "code",
      "execution_count": 10,
      "metadata": {
        "colab": {
          "base_uri": "https://localhost:8080/"
        },
        "id": "pr-6C8plNd8E",
        "outputId": "22733b9d-fe2e-4a5b-8080-3cb5f364ebc7"
      },
      "outputs": [
        {
          "output_type": "execute_result",
          "data": {
            "text/plain": [
              "766501"
            ]
          },
          "metadata": {},
          "execution_count": 10
        }
      ],
      "source": [
        "F.otype.maxSlot"
      ]
    },
    {
      "cell_type": "code",
      "execution_count": 11,
      "metadata": {
        "colab": {
          "base_uri": "https://localhost:8080/"
        },
        "id": "f81Eyb2xNf7_",
        "outputId": "2c876cda-a6b0-4379-e8a3-9d59a0e71724"
      },
      "outputs": [
        {
          "output_type": "execute_result",
          "data": {
            "text/plain": [
              "('document', 'face', 'line', 'word', 'cluster', 'sign')"
            ]
          },
          "metadata": {},
          "execution_count": 11
        }
      ],
      "source": [
        "F.otype.all"
      ]
    },
    {
      "cell_type": "code",
      "execution_count": 12,
      "metadata": {
        "colab": {
          "base_uri": "https://localhost:8080/"
        },
        "id": "fwRRwKtBNm8O",
        "outputId": "1745accc-ddd3-4ed6-aeb6-a9f31114b9a4"
      },
      "outputs": [
        {
          "output_type": "execute_result",
          "data": {
            "text/plain": [
              "(('document', 160.52376963350784, 848587, 853361),\n",
              " ('face', 64.35768261964735, 853362, 865271),\n",
              " ('line', 6.977061714909885, 865272, 975131),\n",
              " ('word', 2.374915608320701, 975132, 1289143),\n",
              " ('cluster', 1.7090576841079368, 766502, 848586),\n",
              " ('sign', 1, 1, 766501))"
            ]
          },
          "metadata": {},
          "execution_count": 12
        }
      ],
      "source": [
        "C.levels.data"
      ]
    },
    {
      "cell_type": "code",
      "execution_count": 13,
      "metadata": {
        "colab": {
          "base_uri": "https://localhost:8080/"
        },
        "id": "pUcT-6R9zP-P",
        "outputId": "e96e4b1d-8aff-4077-c2fc-0c6d1f743274"
      },
      "outputs": [
        {
          "output_type": "stream",
          "name": "stdout",
          "text": [
            "  0.00s counting objects ...\n",
            "   |     0.00s    4775 documents\n",
            "   |     0.00s   11910 faces\n",
            "   |     0.03s  109860 lines\n",
            "   |     0.10s  314012 words\n",
            "   |     0.02s   82085 clusters\n",
            "   |     0.21s  766501 signs\n",
            "  0.38s Done\n"
          ]
        }
      ],
      "source": [
        "A.indent(reset=True)\n",
        "A.info(\"counting objects ...\")\n",
        "\n",
        "for otype in F.otype.all:\n",
        "    i = 0\n",
        "\n",
        "    A.indent(level=1, reset=True)\n",
        "\n",
        "    for n in F.otype.s(otype):\n",
        "        i += 1\n",
        "\n",
        "    A.info(\"{:>7} {}s\".format(i, otype))\n",
        "\n",
        "A.indent(level=0)\n",
        "A.info(\"Done\")\n"
      ]
    },
    {
      "cell_type": "markdown",
      "metadata": {
        "id": "7g5vRZWPOLiU"
      },
      "source": [
        "ways of counting individual object types:\n"
      ]
    },
    {
      "cell_type": "code",
      "execution_count": 14,
      "metadata": {
        "colab": {
          "base_uri": "https://localhost:8080/"
        },
        "id": "IKxQtLLGN_9s",
        "outputId": "d3be017e-93b3-4aa2-89f0-44b0d9974744"
      },
      "outputs": [
        {
          "output_type": "stream",
          "name": "stdout",
          "text": [
            "  0.00s counting objects ...\n",
            "   |     0.00s    4775 documents\n",
            "   |     0.00s   11910 faces\n",
            "   |     0.02s  109860 lines\n",
            "   |     0.07s  314012 words\n",
            "   |     0.01s   82085 clusters\n",
            "   |     0.13s  766501 signs\n",
            "  0.25s Done\n"
          ]
        }
      ],
      "source": [
        "A.indent(reset=True)\n",
        "A.info(\"counting objects ...\")\n",
        "\n",
        "for otype in F.otype.all:\n",
        "    i = 0\n",
        "\n",
        "    A.indent(level=1, reset=True)\n",
        "    amount = len(F.otype.s(otype))\n",
        "    A.info(f\"{amount:>7} {otype}s\")\n",
        "\n",
        "A.indent(level=0)\n",
        "A.info(\"Done\")"
      ]
    },
    {
      "cell_type": "code",
      "execution_count": 15,
      "metadata": {
        "colab": {
          "base_uri": "https://localhost:8080/"
        },
        "id": "dXjAlci9OCvx",
        "outputId": "e28c6a05-209e-4f87-b788-d0a49cad92d0"
      },
      "outputs": [
        {
          "output_type": "stream",
          "name": "stdout",
          "text": [
            "  4775 documents\n",
            " 11910 faces\n",
            "109860 lines\n",
            "314012 words\n",
            " 82085 clusters\n",
            "766501 signs\n"
          ]
        }
      ],
      "source": [
        "for lv in C.levels.data:\n",
        "    print(f\"{lv[3] - lv[2] + 1:>6} {lv[0]}s\")"
      ]
    },
    {
      "cell_type": "markdown",
      "metadata": {
        "id": "H3p3qklFRYWD"
      },
      "source": [
        "Do the 'Viewing textual objects' tutorial here?"
      ]
    },
    {
      "cell_type": "markdown",
      "metadata": {
        "id": "aytgz2JORfh1"
      },
      "source": [
        "Feature statistics"
      ]
    },
    {
      "cell_type": "code",
      "execution_count": 16,
      "metadata": {
        "colab": {
          "base_uri": "https://localhost:8080/"
        },
        "id": "BDktCYndOStw",
        "outputId": "4efaad65-6b43-4e11-f26a-513a05a5453c"
      },
      "outputs": [
        {
          "output_type": "execute_result",
          "data": {
            "text/plain": [
              "((1, 9533),\n",
              " (2, 4139),\n",
              " (5, 2975),\n",
              " (3, 2448),\n",
              " (4, 1787),\n",
              " (6, 1236),\n",
              " (7, 987),\n",
              " (8, 756),\n",
              " (9, 395),\n",
              " (-1, 2))"
            ]
          },
          "metadata": {},
          "execution_count": 16
        }
      ],
      "source": [
        "F.repeat.freqList()"
      ]
    },
    {
      "cell_type": "code",
      "execution_count": 17,
      "metadata": {
        "colab": {
          "base_uri": "https://localhost:8080/"
        },
        "id": "rP1qo8h9Rhvt",
        "outputId": "bdf4993a-f1c7-4e5d-d219-b37a34191132"
      },
      "outputs": [
        {
          "output_type": "execute_result",
          "data": {
            "text/plain": [
              "(('langalt', 47511),\n",
              " ('missing', 28852),\n",
              " ('det', 3823),\n",
              " ('supplied', 1281),\n",
              " ('excised', 349),\n",
              " ('uncertain', 269))"
            ]
          },
          "metadata": {},
          "execution_count": 17
        }
      ],
      "source": [
        "F.type.freqList(\"cluster\")"
      ]
    },
    {
      "cell_type": "code",
      "execution_count": 18,
      "metadata": {
        "colab": {
          "base_uri": "https://localhost:8080/"
        },
        "id": "G-k7gTiTRjyR",
        "outputId": "ca822eef-13c9-4d97-ecab-ea1303eb3ba7"
      },
      "outputs": [
        {
          "output_type": "execute_result",
          "data": {
            "text/plain": [
              "(('reading', 691349),\n",
              " ('numeral', 30256),\n",
              " ('wdiv', 14395),\n",
              " ('ellipsis', 12937),\n",
              " ('unknown', 10808),\n",
              " ('commentline', 6345),\n",
              " ('grapheme', 305),\n",
              " ('complex', 43),\n",
              " ('empty', 30),\n",
              " ('comment', 19),\n",
              " ('other', 5))"
            ]
          },
          "metadata": {},
          "execution_count": 18
        }
      ],
      "source": [
        "F.type.freqList(\"sign\")"
      ]
    },
    {
      "cell_type": "code",
      "execution_count": 19,
      "metadata": {
        "colab": {
          "base_uri": "https://localhost:8080/"
        },
        "id": "JVKbjZpzRlsH",
        "outputId": "b6d70875-4620-4264-a35b-f708d50adf59"
      },
      "outputs": [
        {
          "output_type": "execute_result",
          "data": {
            "text/plain": [
              "(('#', 12950),\n",
              " ('?', 2875),\n",
              " ('!', 2141),\n",
              " ('#?', 684),\n",
              " ('#!', 127),\n",
              " ('!?', 99),\n",
              " ('?!', 37),\n",
              " ('#!?', 21),\n",
              " ('?#!', 6),\n",
              " ('?#', 3),\n",
              " ('#?!', 1))"
            ]
          },
          "metadata": {},
          "execution_count": 19
        }
      ],
      "source": [
        "F.flags.freqList()"
      ]
    },
    {
      "cell_type": "markdown",
      "metadata": {
        "id": "iGHVdkVjRr3l"
      },
      "source": [
        "Top 20 frequent words:"
      ]
    },
    {
      "cell_type": "code",
      "execution_count": 20,
      "metadata": {
        "colab": {
          "base_uri": "https://localhost:8080/"
        },
        "id": "IS3xsytQRnez",
        "outputId": "ef3c1bf0-19dd-419e-ee51-e2f48fc85429"
      },
      "outputs": [
        {
          "output_type": "stream",
          "name": "stdout",
          "text": [
            "12421 a-na\n",
            "11623 sza\n",
            "10191 ...\n",
            " 9683 ku3-babbar\n",
            " 8560 ma-na\n",
            " 7809 x\n",
            " 5849 dumu\n",
            " 5788 u3\n",
            " 5717 gin2\n",
            " 4899 1(disz)\n",
            " 4360 i-na\n",
            " 4042 um-ma\n",
            " 3922 la2\n",
            " 3839 1(u)\n",
            " 3726 igi\n",
            " 2903 u2\n",
            " 2885 tug2\n",
            " 2864 2(disz)\n",
            " 2814 1/2(disz)\n",
            " 2592 5(disz)\n"
          ]
        }
      ],
      "source": [
        "for (w, amount) in F.sym.freqList(\"word\")[0:20]:\n",
        "    print(f\"{amount:>5} {w}\")"
      ]
    },
    {
      "cell_type": "code",
      "execution_count": 21,
      "metadata": {
        "colab": {
          "base_uri": "https://localhost:8080/"
        },
        "id": "DriwAx3jRui5",
        "outputId": "ab2767e5-4c44-44ab-d6dc-5dc1eb1f5cbb"
      },
      "outputs": [
        {
          "output_type": "stream",
          "name": "stdout",
          "text": [
            "\"&i2-li-esz18-dar\"\n",
            "\"...+3(disz)\"\n",
            "\"...-a-...\"\n",
            "\"...-a-ar\"\n",
            "\"...-a-at\"\n",
            "\"...-a-hi\"\n",
            "\"...-a-ku-nu-ti2\"\n",
            "\"...-a-kum\"\n",
            "\"...-a-li\"\n",
            "\"...-a-na\"\n",
            "\"...-a-s,a\"\n",
            "\"...-a-szur-ma\"\n",
            "\"...-a-ta\"\n",
            "\"...-a-tam2\"\n",
            "\"...-a-ti2\"\n",
            "\"...-a-ti2-szu\"\n",
            "\"...-a-wa-tim\"\n",
            "\"...-ab\"\n",
            "\"...-ab2-ti2-ka3\"\n",
            "\"...-ad-ma\"\n"
          ]
        }
      ],
      "source": [
        "for w in [w for (w, amount) in F.sym.freqList(\"word\") if amount == 1][0:20]:\n",
        "    print(f'\"{w}\"')"
      ]
    },
    {
      "cell_type": "code",
      "execution_count": 22,
      "metadata": {
        "id": "vPcpX9mMRxjv"
      },
      "outputs": [],
      "source": [
        "occurrenceBase = collections.defaultdict(set)\n",
        "\n",
        "for w in F.otype.s(\"word\"):\n",
        "    pNum = T.sectionFromNode(w)[0]\n",
        "    occurrenceBase[F.sym.v(w)].add(pNum)"
      ]
    },
    {
      "cell_type": "code",
      "execution_count": 23,
      "metadata": {
        "colab": {
          "base_uri": "https://localhost:8080/"
        },
        "id": "V2j61oVtR1ZH",
        "outputId": "e795e3fa-a90b-4e08-ac72-cd837346d636"
      },
      "outputs": [
        {
          "output_type": "stream",
          "name": "stdout",
          "text": [
            "base size    1 : 19660 words\n",
            "base size    2 :  3912 words\n",
            "base size    3 :  1765 words\n",
            "base size    4 :  1042 words\n",
            "base size    5 :   650 words\n",
            "base size    6 :   481 words\n",
            "base size    7 :   328 words\n",
            "base size    8 :   279 words\n",
            "base size    9 :   219 words\n",
            "base size   10 :   185 words\n",
            "...\n",
            "base size 1995 :     1 words\n",
            "base size 2023 :     1 words\n",
            "base size 2055 :     1 words\n",
            "base size 2159 :     1 words\n",
            "base size 2168 :     1 words\n",
            "base size 2337 :     1 words\n",
            "base size 2824 :     1 words\n",
            "base size 3148 :     1 words\n",
            "base size 3586 :     1 words\n",
            "base size 3737 :     1 words\n"
          ]
        }
      ],
      "source": [
        "occurrenceSize = collections.Counter()\n",
        "\n",
        "for (w, pNums) in occurrenceBase.items():\n",
        "    occurrenceSize[len(pNums)] += 1\n",
        "\n",
        "occurrenceSize = sorted(\n",
        "    occurrenceSize.items(),\n",
        "    key=lambda x: (-x[1], x[0]),\n",
        ")\n",
        "\n",
        "for (size, amount) in occurrenceSize[0:10]:\n",
        "    print(f\"base size {size:>4} : {amount:>5} words\")\n",
        "print(\"...\")\n",
        "for (size, amount) in occurrenceSize[-10:]:\n",
        "    print(f\"base size {size:>4} : {amount:>5} words\")"
      ]
    },
    {
      "cell_type": "code",
      "execution_count": 24,
      "metadata": {
        "colab": {
          "base_uri": "https://localhost:8080/"
        },
        "id": "Lm0_XntfR3nA",
        "outputId": "9e249164-51b8-4c52-b984-ae49c73061a7"
      },
      "outputs": [
        {
          "output_type": "execute_result",
          "data": {
            "text/plain": [
              "19660"
            ]
          },
          "metadata": {},
          "execution_count": 24
        }
      ],
      "source": [
        "privates = {w for (w, base) in occurrenceBase.items() if len(base) == 1}\n",
        "len(privates)"
      ]
    },
    {
      "cell_type": "markdown",
      "metadata": {
        "id": "pseoKtUZR9HT"
      },
      "source": [
        "Peculiarity of documents:\n",
        "\n",
        "As a final exercise with words, lets make a list of all documents, and show their total number of words number of private words the percentage of private words: a measure of the peculiarity of the document"
      ]
    },
    {
      "cell_type": "code",
      "execution_count": 25,
      "metadata": {
        "colab": {
          "base_uri": "https://localhost:8080/"
        },
        "id": "I6Sa8RiWR6Kh",
        "outputId": "91ecd223-2da8-4f4c-9ab3-3502a9e4a1bc"
      },
      "outputs": [
        {
          "output_type": "stream",
          "name": "stdout",
          "text": [
            "Found   17 empty documents\n",
            "Found  813 ordinary documents (i.e. without private words)\n"
          ]
        }
      ],
      "source": [
        "docList = []\n",
        "\n",
        "empty = set()\n",
        "ordinary = set()\n",
        "\n",
        "for d in F.otype.s(\"document\"):\n",
        "    pNum = T.documentName(d)\n",
        "    words = {F.sym.v(w) for w in L.d(d, otype=\"word\")}\n",
        "    a = len(words)\n",
        "    if not a:\n",
        "        empty.add(pNum)\n",
        "        continue\n",
        "    o = len({w for w in words if w in privates})\n",
        "    if not o:\n",
        "        ordinary.add(pNum)\n",
        "        continue\n",
        "    p = 100 * o / a\n",
        "    docList.append((pNum, a, o, p))\n",
        "\n",
        "docList = sorted(docList, key=lambda e: (-e[3], -e[1], e[0]))\n",
        "\n",
        "print(f\"Found {len(empty):>4} empty documents\")\n",
        "print(f\"Found {len(ordinary):>4} ordinary documents (i.e. without private words)\")"
      ]
    },
    {
      "cell_type": "code",
      "execution_count": 26,
      "metadata": {
        "colab": {
          "base_uri": "https://localhost:8080/"
        },
        "id": "Q1J8hH_RSELg",
        "outputId": "2f3a9afd-521d-4623-996a-f9998413e729"
      },
      "outputs": [
        {
          "output_type": "stream",
          "name": "stdout",
          "text": [
            "document             #all #own %own\n",
            "-----------------------------------\n",
            "P360785                 5    5 100.0%\n",
            "P358235                 1    1 100.0%\n",
            "P360454                 1    1 100.0%\n",
            "P360852                12   11 91.7%\n",
            "P465862                15   11 73.3%\n",
            "P360830                19   13 68.4%\n",
            "P361545                78   52 66.7%\n",
            "P360142                15   10 66.7%\n",
            "P357757                78   50 64.1%\n",
            "P293870                36   21 58.3%\n",
            "P361474                14    8 57.1%\n",
            "P360285                 7    4 57.1%\n",
            "P216609                96   52 54.2%\n",
            "P359305                13    7 53.8%\n",
            "P361421                62   33 53.2%\n",
            "P359433                30   15 50.0%\n",
            "P368348                16    8 50.0%\n",
            "P290330                12    6 50.0%\n",
            "P360453                 4    2 50.0%\n",
            "P359347                 2    1 50.0%\n",
            "...\n",
            "P358110                67    1  1.5%\n",
            "P358779                67    1  1.5%\n",
            "P359125                67    1  1.5%\n",
            "P361502                68    1  1.5%\n",
            "P359063                70    1  1.4%\n",
            "P359717                70    1  1.4%\n",
            "P297242                71    1  1.4%\n",
            "P358833                72    1  1.4%\n",
            "P359251                72    1  1.4%\n",
            "P358588                76    1  1.3%\n",
            "P390603                76    1  1.3%\n",
            "P390605                76    1  1.3%\n",
            "P360654                81    1  1.2%\n",
            "P358879                85    1  1.2%\n",
            "P361701                91    1  1.1%\n",
            "P360405                97    1  1.0%\n",
            "P358479               100    1  1.0%\n",
            "P360842               105    1  1.0%\n",
            "P390595               107    1  0.9%\n",
            "P359051               117    1  0.9%\n"
          ]
        }
      ],
      "source": [
        "print(\n",
        "    \"{:<20}{:>5}{:>5}{:>5}\\n{}\".format(\n",
        "        \"document\",\n",
        "        \"#all\",\n",
        "        \"#own\",\n",
        "        \"%own\",\n",
        "        \"-\" * 35,\n",
        "    )\n",
        ")\n",
        "\n",
        "for x in docList[0:20]:\n",
        "    print(\"{:<20} {:>4} {:>4} {:>4.1f}%\".format(*x))\n",
        "print(\"...\")\n",
        "for x in docList[-20:]:\n",
        "    print(\"{:<20} {:>4} {:>4} {:>4.1f}%\".format(*x))"
      ]
    },
    {
      "cell_type": "markdown",
      "metadata": {
        "id": "RMdTDId2TfYH"
      },
      "source": [
        "Locality API"
      ]
    },
    {
      "cell_type": "code",
      "execution_count": 27,
      "metadata": {
        "colab": {
          "base_uri": "https://localhost:8080/"
        },
        "id": "Ec4be4ooSHIA",
        "outputId": "89c72230-b350-4a7b-9614-45a9257a6b1e"
      },
      "outputs": [
        {
          "output_type": "stream",
          "name": "stdout",
          "text": [
            "848587\n"
          ]
        }
      ],
      "source": [
        "firstDoc = L.u(1, otype=\"document\")[0]\n",
        "print(firstDoc)"
      ]
    },
    {
      "cell_type": "code",
      "execution_count": 28,
      "metadata": {
        "colab": {
          "base_uri": "https://localhost:8080/"
        },
        "id": "BbJtjhjgTkkT",
        "outputId": "11df3556-ee5a-4372-a2ff-c2e410b023dd"
      },
      "outputs": [
        {
          "output_type": "stream",
          "name": "stdout",
          "text": [
            "sign 3 is contained in document 848587\n",
            "sign 3 is contained in face 853362\n",
            "sign 3 is contained in line 865272\n",
            "sign 3 is contained in word 975133\n",
            "sign 3 is contained in cluster x\n"
          ]
        }
      ],
      "source": [
        "s = 3\n",
        "for otype in F.otype.all:\n",
        "    if otype == F.otype.slotType:\n",
        "        continue\n",
        "    up = L.u(s, otype=otype)\n",
        "    upNode = \"x\" if len(up) == 0 else up[0]\n",
        "    print(\"sign {} is contained in {} {}\".format(s, otype, upNode))"
      ]
    },
    {
      "cell_type": "code",
      "execution_count": 29,
      "metadata": {
        "colab": {
          "base_uri": "https://localhost:8080/"
        },
        "id": "F2UTuRx7TmtK",
        "outputId": "64b92dbf-4491-4215-f486-a8ee899ba2d8"
      },
      "outputs": [
        {
          "output_type": "stream",
          "name": "stdout",
          "text": [
            "    693: sign          first slot=693   , last slot=693   \n",
            " 975374: word          first slot=693   , last slot=694   \n",
            " 865338: line          first slot=693   , last slot=696   \n",
            " 853365: face          first slot=693   , last slot=720   \n",
            " 848588: document      first slot=693   , last slot=739   \n"
          ]
        }
      ],
      "source": [
        "afterFirstDoc = L.n(firstDoc)\n",
        "for n in afterFirstDoc:\n",
        "    print(\n",
        "        \"{:>7}: {:<13} first slot={:<6}, last slot={:<6}\".format(\n",
        "            n,\n",
        "            F.otype.v(n),\n",
        "            E.oslots.s(n)[0],\n",
        "            E.oslots.s(n)[-1],\n",
        "        )\n",
        "    )\n",
        "secondDoc = L.n(firstDoc, otype=\"document\")[0]"
      ]
    },
    {
      "cell_type": "code",
      "execution_count": 30,
      "metadata": {
        "colab": {
          "base_uri": "https://localhost:8080/"
        },
        "id": "bQx0cMcJTogY",
        "outputId": "b67c9033-3976-484e-b30c-7460a19b3e05"
      },
      "outputs": [
        {
          "output_type": "stream",
          "name": "stdout",
          "text": [
            " 848587: document      first slot=1     , last slot=692   \n",
            " 853364: face          first slot=579   , last slot=692   \n",
            " 865337: line          first slot=680   , last slot=692   \n",
            " 975373: word          first slot=692   , last slot=692   \n",
            " 766521: cluster       first slot=692   , last slot=692   \n",
            "    692: sign          first slot=692   , last slot=692   \n"
          ]
        }
      ],
      "source": [
        "for n in L.p(secondDoc):\n",
        "    print(\n",
        "        \"{:>7}: {:<13} first slot={:<6}, last slot={:<6}\".format(\n",
        "            n,\n",
        "            F.otype.v(n),\n",
        "            E.oslots.s(n)[0],\n",
        "            E.oslots.s(n)[-1],\n",
        "        )\n",
        "    )"
      ]
    },
    {
      "cell_type": "code",
      "execution_count": 31,
      "metadata": {
        "colab": {
          "base_uri": "https://localhost:8080/"
        },
        "id": "kkWyBjwnTqhc",
        "outputId": "f3eba275-c22f-4f19-f710-c13f10eeb92d"
      },
      "outputs": [
        {
          "output_type": "stream",
          "name": "stdout",
          "text": [
            "3\n"
          ]
        }
      ],
      "source": [
        "faces = L.d(firstDoc, otype=\"face\")\n",
        "print(len(faces))"
      ]
    },
    {
      "cell_type": "code",
      "execution_count": 32,
      "metadata": {
        "colab": {
          "base_uri": "https://localhost:8080/"
        },
        "id": "0k-o4esGTsmT",
        "outputId": "376717b6-3399-4bde-c5e1-4f19f2dbd1f8"
      },
      "outputs": [
        {
          "output_type": "stream",
          "name": "stdout",
          "text": [
            "Node 975132\n",
            "   |   UP\n",
            "   |      |   766502          cluster\n",
            "   |      |   865272          line\n",
            "   |      |   853362          face\n",
            "   |      |   848587          document\n",
            "   |   DOWN\n",
            "   |      |   766502          cluster\n",
            "   |      |   1               sign\n",
            "Node 865272\n",
            "   |   UP\n",
            "   |      |   853362          face\n",
            "   |      |   848587          document\n",
            "   |   DOWN\n",
            "   |      |   975132          word\n",
            "   |      |   766502          cluster\n",
            "   |      |   1               sign\n",
            "   |      |   975133          word\n",
            "   |      |   2               sign\n",
            "   |      |   3               sign\n",
            "   |      |   4               sign\n",
            "   |      |   975134          word\n",
            "   |      |   766503          cluster\n",
            "   |      |   5               sign\n",
            "Done\n"
          ]
        }
      ],
      "source": [
        "for n in [\n",
        "    F.otype.s(\"word\")[0],\n",
        "    F.otype.s(\"line\")[0],\n",
        "]:\n",
        "    A.indent(level=0)\n",
        "    A.info(\"Node {}\".format(n), tm=False)\n",
        "    A.indent(level=1)\n",
        "    A.info(\"UP\", tm=False)\n",
        "    A.indent(level=2)\n",
        "    A.info(\"\\n\".join([\"{:<15} {}\".format(u, F.otype.v(u)) for u in L.u(n)]), tm=False)\n",
        "    A.indent(level=1)\n",
        "    A.info(\"DOWN\", tm=False)\n",
        "    A.indent(level=2)\n",
        "    A.info(\"\\n\".join([\"{:<15} {}\".format(u, F.otype.v(u)) for u in L.d(n)]), tm=False)\n",
        "A.indent(level=0)\n",
        "A.info(\"Done\", tm=False)"
      ]
    },
    {
      "cell_type": "markdown",
      "metadata": {
        "id": "Ow-JQDQqTyuT"
      },
      "source": [
        "Text API"
      ]
    },
    {
      "cell_type": "code",
      "execution_count": 33,
      "metadata": {
        "colab": {
          "base_uri": "https://localhost:8080/"
        },
        "id": "OA-Fb4cwTuao",
        "outputId": "e548b431-51f6-4563-bae2-b9ac1ecb06e9"
      },
      "outputs": [
        {
          "output_type": "execute_result",
          "data": {
            "text/plain": [
              "['layout-orig-rich',\n",
              " 'layout-orig-unicode',\n",
              " 'text-orig-full',\n",
              " 'text-orig-plain',\n",
              " 'text-orig-rich',\n",
              " 'text-orig-unicode']"
            ]
          },
          "metadata": {},
          "execution_count": 33
        }
      ],
      "source": [
        "sorted(T.formats)\n"
      ]
    },
    {
      "cell_type": "code",
      "execution_count": 34,
      "metadata": {
        "colab": {
          "base_uri": "https://localhost:8080/",
          "height": 36
        },
        "id": "rObUsRpXT1IQ",
        "outputId": "badc8426-a514-4560-af6a-c72e0ba21819"
      },
      "outputs": [
        {
          "output_type": "execute_result",
          "data": {
            "text/plain": [
              "'lugal lugal-ke-en6 lugala-ki-di2-e re-be-'"
            ],
            "application/vnd.google.colaboratory.intrinsic+json": {
              "type": "string"
            }
          },
          "metadata": {},
          "execution_count": 34
        }
      ],
      "source": [
        "T.text([1, 2, 3, 4, 5, 6, 7, 8, 9, 10, 11], fmt=\"text-orig-plain\")\n"
      ]
    },
    {
      "cell_type": "code",
      "execution_count": 35,
      "metadata": {
        "colab": {
          "base_uri": "https://localhost:8080/"
        },
        "id": "4BzkavXRT3uW",
        "outputId": "c5aa32a8-5051-4cfe-fa77-bcc03cf4b905"
      },
      "outputs": [
        {
          "output_type": "execute_result",
          "data": {
            "text/plain": [
              "[1, 975132, 766502, 865272, 853362, 848587]"
            ]
          },
          "metadata": {},
          "execution_count": 35
        }
      ],
      "source": [
        "exampleNodes = [\n",
        "    F.otype.s(\"sign\")[0],\n",
        "    F.otype.s(\"word\")[0],\n",
        "    F.otype.s(\"cluster\")[0],\n",
        "    F.otype.s(\"line\")[0],\n",
        "    F.otype.s(\"face\")[0],\n",
        "    F.otype.s(\"document\")[0],\n",
        "]\n",
        "exampleNodes"
      ]
    },
    {
      "cell_type": "code",
      "execution_count": 36,
      "metadata": {
        "colab": {
          "base_uri": "https://localhost:8080/"
        },
        "id": "PELAAmDpT546",
        "outputId": "5498ba1d-2fce-4932-dfe2-76430ead7bfb"
      },
      "outputs": [
        {
          "output_type": "stream",
          "name": "stdout",
          "text": [
            "This is sign 1:\n",
            "_lugal_ \n",
            "\n",
            "This is word 975132:\n",
            "_lugal_ \n",
            "\n",
            "This is cluster 766502:\n",
            "_lugal_ \n",
            "\n",
            "This is line 865272:\n",
            "_lugal_ lugal-ke-en6 _lugal_\n",
            "\n",
            "This is face 853362:\n",
            "_lugal_ lugal-ke-en6 _lugal_a-ki-di2-e re-be-tim _lugal_da-num sza isz-ti2 i-le-ee-ta-wu-ni {d}iszkur da-nu-tam2i-di2-szu-ma isz-tu3 s,i2-itsza-am-szi2-im a-di2 e-ra-ab2sza-am-szi2-im ma-tam2 as,-ba-at-mai-na u4-mi3-im isz-te2-en6a-na 7(u) a-la2-ni ka3-ka3-am a-di2-inru-ba-e-szu-nu u2-s,a-bi4-it u3 a-li-szu-nuu2-ha-li-iq {d}iszkur be-el e-mu-qi2-imu3 esz18-dar be-la2-at ta-ha-zi-imat-ma s,a-bi4-tam2 a-mu-ur-ma li-bi4-tam2a-na na-ri-im a-di2-ma i-nala2-sa3-mi3-a mu-sa3-ri i-bi4-ti2-iq-maza-ar-a-am asz2-ta-ka3-an-ma al-su2-mas,a-bi4-tam2 as,-ba-at li-bi4-tam2i-ma-e u2-sze2-li {d}iszkur u3 esz18-darat#-[ma] _1(disz) li#-im gu4 hi-a_ 6(disz) li-me-e_udu-hi-a_ u2-mi3-sza-ma lu u2-t,a-ba-ah7(disz) li-me-e qa2-ra#-du-a sza i-ra-timu2-mi3-sza-ma ma-ah-ri-a e-ku-lu-ni3(disz) li-me-e la2-si2-mu-u2-asza ar-ka3-tim e-ku-lu-ni_1(disz) li-im_ sza-qi2-u2-au4-mi3-sza-ma mu-ha-amsza kur-ur-si2-na-tim a-di2-isza-ba-im e-ku-lu-ni_tir_-tu3 i-ig-re-e-ma7(disz) li-me-e qa2-ra-du-a\n",
            "\n",
            "This is document 848587:\n",
            "_lugal_ lugal-ke-en6 _lugal_a-ki-di2-e re-be-tim _lugal_da-num sza isz-ti2 i-le-ee-ta-wu-ni {d}iszkur da-nu-tam2i-di2-szu-ma isz-tu3 s,i2-itsza-am-szi2-im a-di2 e-ra-ab2sza-am-szi2-im ma-tam2 as,-ba-at-mai-na u4-mi3-im isz-te2-en6a-na 7(u) a-la2-ni ka3-ka3-am a-di2-inru-ba-e-szu-nu u2-s,a-bi4-it u3 a-li-szu-nuu2-ha-li-iq {d}iszkur be-el e-mu-qi2-imu3 esz18-dar be-la2-at ta-ha-zi-imat-ma s,a-bi4-tam2 a-mu-ur-ma li-bi4-tam2a-na na-ri-im a-di2-ma i-nala2-sa3-mi3-a mu-sa3-ri i-bi4-ti2-iq-maza-ar-a-am asz2-ta-ka3-an-ma al-su2-mas,a-bi4-tam2 as,-ba-at li-bi4-tam2i-ma-e u2-sze2-li {d}iszkur u3 esz18-darat#-[ma] _1(disz) li#-im gu4 hi-a_ 6(disz) li-me-e_udu-hi-a_ u2-mi3-sza-ma lu u2-t,a-ba-ah7(disz) li-me-e qa2-ra#-du-a sza i-ra-timu2-mi3-sza-ma ma-ah-ri-a e-ku-lu-ni3(disz) li-me-e la2-si2-mu-u2-asza ar-ka3-tim e-ku-lu-ni_1(disz) li-im_ sza-qi2-u2-au4-mi3-sza-ma mu-ha-amsza kur-ur-si2-na-tim a-di2-isza-ba-im e-ku-lu-ni_tir_-tu3 i-ig-re-e-ma7(disz) li-me-e qa2-ra-du-ai-ra-tim e-ku-lu a-nawa-ar-ki-im i-ir-tumla2 ik-szu-ud-ma a-la2-ap2-szuku-sza-ma-ni-a-am sza ku-si2-i-szuit,-bu-uh3-ma a-na wa-ar-ki-imi-ir-tam2 i-di2-in nu-hi-ti2-mi3ku-ur-<si2>-na-am u2-ri-ir-maa-na ar-ni-szu _1(disz) me-et gu4 hi-a__2(disz) me-et udu-hi-a_ it,-bu-uh3-maur-di2-a u2-sza-ki-il5 {d}iszkuru3 esz18-dar at-ma _mu 7(disz)-sze3 iti-kam_u3 sza-pa2-tam2 i-na i-ki-il5-timqa2-du um-me-ni-a lu u2-szi2-ibi-na wa-s,a-i-a sza _na4 gug_u3 _na4 za-gin3_ qa2-nu-a-amlu ar-ku-us2-ma a-na ma-timlu u2-za-iz sza-du-a-am hu-ma-nama-szi2-ni-szu am-ha-su2-ma ki-masi2-ki-tim i-ba-ri-szu-nu s,a-al-mi3u2-sza-zi-iz ru-ba-amsza tu3-uk-ri-isz masz-kam u2-la2-bi4-iszhu-du-ra bi4-be-na-tim qa2-qa2-da-ti2-szu-nuasz2-ku-un a-la2-szi2-am ki-masi2-ni-isz-tim qa2-qa2-da-ti2-szu-nuak-tu3-um sza a-mu-ri-eki-ma a-pi3-szu-nu sza ma-t,imi-sza-ar-szu-nu aq-t,i2-i sza ki-la2-ri-ei-mar-szi2-im qa2-qa2-da-ti2-szu-nuar-ku-us2 sza-ni-um ka3-ni-szi2su2-tu3-hi-szu-nu u2-sze2-ersza ha-tim qa2-ba-al-ti2 qa2-qa2-da-ti2-szu-nu u2-sza-ag-li-ib lu-uh3-me-etu3-di2-tam2 u2-di2-id gu5-ti2-tam2 lu-lu-am u3 ha-ha-am su2-tu3?-hi?-szu-nu u2-sza-ri4(disz) zi-qi2 sza-ma-e i-qa2-ti2-a al-pu-ut mi3-na-am i-t,up-pi3-imlu-sza-am-i-id a-nu-um la2 i-de8-a-ni ki-ma lugal a-na-ku-nima-tam2 e-li-tam2 u3 sza-ap2-li-tam2 as,-bu-tu3-ni-isza-tu3-uk-ki li-sza-ar-bi4-u2 {d}iszkur / _lugal_\n",
            "\n"
          ]
        }
      ],
      "source": [
        "for n in exampleNodes:\n",
        "    print(f\"This is {F.otype.v(n)} {n}:\")\n",
        "    print(T.text(n))\n",
        "    print(\"\")"
      ]
    },
    {
      "cell_type": "markdown",
      "metadata": {
        "id": "cFbLt7IuT-y1"
      },
      "source": [
        "Using the formats"
      ]
    },
    {
      "cell_type": "code",
      "execution_count": 37,
      "metadata": {
        "colab": {
          "base_uri": "https://localhost:8080/"
        },
        "id": "2BveKTq6T-nr",
        "outputId": "ec0b12ac-faca-46fc-c239-49c380d31978"
      },
      "outputs": [
        {
          "output_type": "stream",
          "name": "stdout",
          "text": [
            "text-orig-full:\n",
            "\t_lugal_ lugal-ke-en6 _lugal_a-ki-di2-e re-be-\n",
            "text-orig-plain:\n",
            "\tlugal lugal-ke-en6 lugala-ki-di2-e re-be-\n",
            "text-orig-rich:\n",
            "\tlugal lugal-ke-en₆ lugala-ki-di₂-e re-be-\n",
            "text-orig-unicode:\n",
            "\t𒈗 𒈗𒆠𒅔 𒈗𒀀𒆠𒊹𒂊 𒊑𒁁\n"
          ]
        }
      ],
      "source": [
        "for fmt in sorted(T.formats):\n",
        "    if fmt.startswith(\"text-\"):\n",
        "        print(\"{}:\\n\\t{}\".format(fmt, T.text(range(1, 12), fmt=fmt)))"
      ]
    },
    {
      "cell_type": "code",
      "execution_count": 38,
      "metadata": {
        "colab": {
          "base_uri": "https://localhost:8080/",
          "height": 36
        },
        "id": "2EYmiThmT8Jx",
        "outputId": "538061fd-de44-43e8-a325-74b0c6fe47f4"
      },
      "outputs": [
        {
          "output_type": "execute_result",
          "data": {
            "text/plain": [
              "'_lugal_ lugal-ke-en6 _lugal_a-ki-di2-e re-be-'"
            ],
            "application/vnd.google.colaboratory.intrinsic+json": {
              "type": "string"
            }
          },
          "metadata": {},
          "execution_count": 38
        }
      ],
      "source": [
        "T.text(range(1, 12))\n"
      ]
    },
    {
      "cell_type": "code",
      "execution_count": 39,
      "metadata": {
        "colab": {
          "base_uri": "https://localhost:8080/",
          "height": 36
        },
        "id": "h6B8i7YdUJrG",
        "outputId": "fd80e088-5ddd-46d3-8835-9f575ce5b998"
      },
      "outputs": [
        {
          "output_type": "execute_result",
          "data": {
            "text/plain": [
              "'_lugal_ lugal-ke-en6 _lugal_'"
            ],
            "application/vnd.google.colaboratory.intrinsic+json": {
              "type": "string"
            }
          },
          "metadata": {},
          "execution_count": 39
        }
      ],
      "source": [
        "firstLine = F.otype.s(\"line\")[0]\n",
        "T.text(firstLine)"
      ]
    },
    {
      "cell_type": "code",
      "execution_count": 40,
      "metadata": {
        "colab": {
          "base_uri": "https://localhost:8080/",
          "height": 36
        },
        "id": "aeDlPckCULcj",
        "outputId": "3cbf8158-2f11-4cc1-8737-fea948f7985e"
      },
      "outputs": [
        {
          "output_type": "execute_result",
          "data": {
            "text/plain": [
              "'𒈗 𒈗𒆠𒅔 𒈗'"
            ],
            "application/vnd.google.colaboratory.intrinsic+json": {
              "type": "string"
            }
          },
          "metadata": {},
          "execution_count": 40
        }
      ],
      "source": [
        "T.text(firstLine, fmt=\"text-orig-unicode\")"
      ]
    },
    {
      "cell_type": "markdown",
      "metadata": {
        "id": "mP4wfI9KUZaa"
      },
      "source": [
        "Word dividers"
      ]
    },
    {
      "cell_type": "code",
      "execution_count": 41,
      "metadata": {
        "colab": {
          "base_uri": "https://localhost:8080/"
        },
        "id": "k0S30dZgUNoe",
        "outputId": "e7af6f1d-0df4-439e-d06f-e19f663b8847"
      },
      "outputs": [
        {
          "output_type": "execute_result",
          "data": {
            "text/plain": [
              "14395"
            ]
          },
          "metadata": {},
          "execution_count": 41
        }
      ],
      "source": [
        "ds = F.type.s(\"wdiv\")\n",
        "len(ds)"
      ]
    },
    {
      "cell_type": "code",
      "execution_count": 42,
      "metadata": {
        "colab": {
          "base_uri": "https://localhost:8080/"
        },
        "id": "wf7wn4SuUb_g",
        "outputId": "479b603b-c8b8-44a3-c465-951bcec824f3"
      },
      "outputs": [
        {
          "output_type": "stream",
          "name": "stdout",
          "text": [
            "P390626 left:6 => https:/cdli.ucla.edu/search/search_results.php?SearchMode=Text&ObjectID=P390626\n"
          ]
        }
      ],
      "source": [
        "d = ds[0]\n",
        "ln = L.u(d, otype=\"line\")[0]\n",
        "A.webLink(ln)"
      ]
    },
    {
      "cell_type": "code",
      "execution_count": 43,
      "metadata": {
        "colab": {
          "base_uri": "https://localhost:8080/"
        },
        "id": "PsQQ9AwDMlXT",
        "outputId": "9293bfa4-5b39-4cdb-afd4-d3ae814c4398"
      },
      "outputs": [
        {
          "output_type": "execute_result",
          "data": {
            "text/plain": [
              "(691,\n",
              " 1281,\n",
              " 1330,\n",
              " 1335,\n",
              " 1402,\n",
              " 1423,\n",
              " 1428,\n",
              " 1442,\n",
              " 1447,\n",
              " 1501,\n",
              " 1519,\n",
              " 1524,\n",
              " 1527,\n",
              " 1698,\n",
              " 1706,\n",
              " 1715,\n",
              " 1752,\n",
              " 1768,\n",
              " 1867,\n",
              " 1963,\n",
              " 2040,\n",
              " 2066,\n",
              " 2088,\n",
              " 2092,\n",
              " 2646,\n",
              " 2666,\n",
              " 2690,\n",
              " 3398,\n",
              " 3406,\n",
              " 3416,\n",
              " 3424,\n",
              " 3437,\n",
              " 3449,\n",
              " 3939,\n",
              " 3993,\n",
              " 4171,\n",
              " 4177,\n",
              " 4187,\n",
              " 4192,\n",
              " 4207,\n",
              " 4211,\n",
              " 4219,\n",
              " 4222,\n",
              " 4239,\n",
              " 4242,\n",
              " 4250,\n",
              " 4266,\n",
              " 4269,\n",
              " 4305,\n",
              " 4313,\n",
              " 4316,\n",
              " 4319,\n",
              " 4324,\n",
              " 4330,\n",
              " 4334,\n",
              " 4339,\n",
              " 4347,\n",
              " 4363,\n",
              " 4376,\n",
              " 4384,\n",
              " 4395,\n",
              " 4400,\n",
              " 4410,\n",
              " 4416,\n",
              " 4422,\n",
              " 4429,\n",
              " 4433,\n",
              " 4437,\n",
              " 4444,\n",
              " 4457,\n",
              " 4462,\n",
              " 4477,\n",
              " 4485,\n",
              " 4493,\n",
              " 4498,\n",
              " 4504,\n",
              " 4512,\n",
              " 4538,\n",
              " 4552,\n",
              " 4560,\n",
              " 4577,\n",
              " 4584,\n",
              " 4588,\n",
              " 4593,\n",
              " 4602,\n",
              " 4616,\n",
              " 4621,\n",
              " 4634,\n",
              " 4650,\n",
              " 4661,\n",
              " 4667,\n",
              " 4681,\n",
              " 4694,\n",
              " 4703,\n",
              " 4713,\n",
              " 4732,\n",
              " 4753,\n",
              " 4767,\n",
              " 4770,\n",
              " 4774,\n",
              " 4781,\n",
              " 4786,\n",
              " 4790,\n",
              " 4804,\n",
              " 4811,\n",
              " 4818,\n",
              " 4822,\n",
              " 4831,\n",
              " 4846,\n",
              " 4849,\n",
              " 4864,\n",
              " 4868,\n",
              " 4907,\n",
              " 4912,\n",
              " 4922,\n",
              " 4926,\n",
              " 4941,\n",
              " 4954,\n",
              " 4965,\n",
              " 4975,\n",
              " 4986,\n",
              " 5156,\n",
              " 5166,\n",
              " 5202,\n",
              " 5231,\n",
              " 5235,\n",
              " 5242,\n",
              " 5251,\n",
              " 5270,\n",
              " 5475,\n",
              " 5490,\n",
              " 5552,\n",
              " 5556,\n",
              " 5563,\n",
              " 5612,\n",
              " 5883,\n",
              " 7812,\n",
              " 7826,\n",
              " 7834,\n",
              " 7842,\n",
              " 7862,\n",
              " 7900,\n",
              " 7923,\n",
              " 7941,\n",
              " 7953,\n",
              " 7966,\n",
              " 7982,\n",
              " 8024,\n",
              " 8032,\n",
              " 8039,\n",
              " 8043,\n",
              " 8057,\n",
              " 8324,\n",
              " 8327,\n",
              " 8340,\n",
              " 8352,\n",
              " 8355,\n",
              " 8361,\n",
              " 8402,\n",
              " 8410,\n",
              " 8418,\n",
              " 8449,\n",
              " 8458,\n",
              " 8482,\n",
              " 8486,\n",
              " 8492,\n",
              " 8509,\n",
              " 8594,\n",
              " 8625,\n",
              " 8696,\n",
              " 9013,\n",
              " 9043,\n",
              " 9067,\n",
              " 9082,\n",
              " 9105,\n",
              " 9128,\n",
              " 9136,\n",
              " 9155,\n",
              " 9162,\n",
              " 9185,\n",
              " 9675,\n",
              " 9700,\n",
              " 9722,\n",
              " 9783,\n",
              " 9836,\n",
              " 9849,\n",
              " 9857,\n",
              " 9893,\n",
              " 10582,\n",
              " 10594,\n",
              " 10601,\n",
              " 10613,\n",
              " 10623,\n",
              " 10629,\n",
              " 10708,\n",
              " 10719,\n",
              " 10728,\n",
              " 10736,\n",
              " 10739,\n",
              " 10746,\n",
              " 10760,\n",
              " 10766,\n",
              " 10776,\n",
              " 11157,\n",
              " 11185,\n",
              " 11197,\n",
              " 11312,\n",
              " 11411,\n",
              " 11711,\n",
              " 14048,\n",
              " 14575,\n",
              " 14592,\n",
              " 14906,\n",
              " 14921,\n",
              " 16134,\n",
              " 16153,\n",
              " 17128,\n",
              " 17139,\n",
              " 17150,\n",
              " 17253,\n",
              " 17309,\n",
              " 17588,\n",
              " 17647,\n",
              " 17664,\n",
              " 17670,\n",
              " 17681,\n",
              " 17690,\n",
              " 17695,\n",
              " 17705,\n",
              " 17717,\n",
              " 17731,\n",
              " 17762,\n",
              " 17768,\n",
              " 17782,\n",
              " 17791,\n",
              " 17806,\n",
              " 17821,\n",
              " 17834,\n",
              " 17860,\n",
              " 17866,\n",
              " 17869,\n",
              " 17879,\n",
              " 17889,\n",
              " 17903,\n",
              " 17922,\n",
              " 17933,\n",
              " 17944,\n",
              " 17954,\n",
              " 17975,\n",
              " 17985,\n",
              " 17995,\n",
              " 18024,\n",
              " 18028,\n",
              " 18368,\n",
              " 18436,\n",
              " 28942,\n",
              " 28977,\n",
              " 28991,\n",
              " 29124,\n",
              " 29449,\n",
              " 29637,\n",
              " 29644,\n",
              " 29772,\n",
              " 29778,\n",
              " 29826,\n",
              " 29828,\n",
              " 29834,\n",
              " 30143,\n",
              " 30256,\n",
              " 30389,\n",
              " 30424,\n",
              " 30620,\n",
              " 30673,\n",
              " 30752,\n",
              " 30873,\n",
              " 30949,\n",
              " 31085,\n",
              " 32001,\n",
              " 32013,\n",
              " 32093,\n",
              " 32158,\n",
              " 32161,\n",
              " 32868,\n",
              " 33108,\n",
              " 33116,\n",
              " 33801,\n",
              " 33826,\n",
              " 33849,\n",
              " 33866,\n",
              " 34029,\n",
              " 34038,\n",
              " 34046,\n",
              " 34055,\n",
              " 34063,\n",
              " 34096,\n",
              " 34115,\n",
              " 34263,\n",
              " 34422,\n",
              " 34477,\n",
              " 34490,\n",
              " 34624,\n",
              " 34652,\n",
              " 34675,\n",
              " 34700,\n",
              " 34711,\n",
              " 34783,\n",
              " 34791,\n",
              " 34815,\n",
              " 34844,\n",
              " 34907,\n",
              " 34973,\n",
              " 35024,\n",
              " 35033,\n",
              " 35043,\n",
              " 35066,\n",
              " 35080,\n",
              " 35111,\n",
              " 35177,\n",
              " 35195,\n",
              " 35266,\n",
              " 35485,\n",
              " 35494,\n",
              " 35502,\n",
              " 35504,\n",
              " 35509,\n",
              " 35514,\n",
              " 35522,\n",
              " 35556,\n",
              " 35584,\n",
              " 35590,\n",
              " 35638,\n",
              " 35644,\n",
              " 35648,\n",
              " 35660,\n",
              " 35663,\n",
              " 35678,\n",
              " 35685,\n",
              " 35722,\n",
              " 35730,\n",
              " 35736,\n",
              " 35744,\n",
              " 35765,\n",
              " 35907,\n",
              " 35957,\n",
              " 36603,\n",
              " 36613,\n",
              " 36621,\n",
              " 36630,\n",
              " 36639,\n",
              " 36662,\n",
              " 36674,\n",
              " 36681,\n",
              " 36688,\n",
              " 36691,\n",
              " 36706,\n",
              " 36726,\n",
              " 36744,\n",
              " 36753,\n",
              " 36758,\n",
              " 36762,\n",
              " 36780,\n",
              " 36796,\n",
              " 36805,\n",
              " 36812,\n",
              " 37198,\n",
              " 37250,\n",
              " 37271,\n",
              " 37284,\n",
              " 37337,\n",
              " 37377,\n",
              " 37393,\n",
              " 37408,\n",
              " 37416,\n",
              " 37427,\n",
              " 37450,\n",
              " 37468,\n",
              " 37575,\n",
              " 37638,\n",
              " 37646,\n",
              " 37655,\n",
              " 37687,\n",
              " 37694,\n",
              " 37729,\n",
              " 37754,\n",
              " 37762,\n",
              " 37770,\n",
              " 37779,\n",
              " 37792,\n",
              " 37815,\n",
              " 38060,\n",
              " 38131,\n",
              " 38351,\n",
              " 38383,\n",
              " 38399,\n",
              " 38525,\n",
              " 38633,\n",
              " 38774,\n",
              " 38848,\n",
              " 38980,\n",
              " 39061,\n",
              " 39100,\n",
              " 39128,\n",
              " 39142,\n",
              " 39151,\n",
              " 39154,\n",
              " 39177,\n",
              " 39188,\n",
              " 39219,\n",
              " 39223,\n",
              " 39285,\n",
              " 39299,\n",
              " 39332,\n",
              " 39587,\n",
              " 39595,\n",
              " 39618,\n",
              " 39642,\n",
              " 39657,\n",
              " 39673,\n",
              " 39694,\n",
              " 39751,\n",
              " 39762,\n",
              " 39779,\n",
              " 39784,\n",
              " 39805,\n",
              " 39818,\n",
              " 39823,\n",
              " 39831,\n",
              " 39860,\n",
              " 39866,\n",
              " 39876,\n",
              " 39885,\n",
              " 39890,\n",
              " 39898,\n",
              " 39922,\n",
              " 39930,\n",
              " 39947,\n",
              " 39951,\n",
              " 39994,\n",
              " 40006,\n",
              " 40017,\n",
              " 40027,\n",
              " 40039,\n",
              " 40061,\n",
              " 40071,\n",
              " 40083,\n",
              " 40095,\n",
              " 40100,\n",
              " 40106,\n",
              " 40122,\n",
              " 40130,\n",
              " 40134,\n",
              " 40143,\n",
              " 40151,\n",
              " 40163,\n",
              " 40173,\n",
              " 40178,\n",
              " 40186,\n",
              " 40208,\n",
              " 42493,\n",
              " 42523,\n",
              " 42569,\n",
              " 42608,\n",
              " 42638,\n",
              " 42703,\n",
              " 43143,\n",
              " 43431,\n",
              " 43566,\n",
              " 43583,\n",
              " 44016,\n",
              " 44385,\n",
              " 44455,\n",
              " 44516,\n",
              " 44534,\n",
              " 44618,\n",
              " 44625,\n",
              " 44643,\n",
              " 44649,\n",
              " 44667,\n",
              " 44691,\n",
              " 44698,\n",
              " 44702,\n",
              " 44713,\n",
              " 44722,\n",
              " 44752,\n",
              " 44762,\n",
              " 44783,\n",
              " 44801,\n",
              " 44811,\n",
              " 44822,\n",
              " 44829,\n",
              " 44833,\n",
              " 44842,\n",
              " 44859,\n",
              " 44867,\n",
              " 44886,\n",
              " 44918,\n",
              " 44926,\n",
              " 44937,\n",
              " 44966,\n",
              " 44973,\n",
              " 44997,\n",
              " 45001,\n",
              " 45003,\n",
              " 45170,\n",
              " 45180,\n",
              " 45190,\n",
              " 45199,\n",
              " 45233,\n",
              " 45356,\n",
              " 45365,\n",
              " 45373,\n",
              " 45392,\n",
              " 45395,\n",
              " 45401,\n",
              " 45414,\n",
              " 45469,\n",
              " 45510,\n",
              " 45520,\n",
              " 45529,\n",
              " 45542,\n",
              " 45556,\n",
              " 45596,\n",
              " 45600,\n",
              " 45606,\n",
              " 45627,\n",
              " 45896,\n",
              " 45914,\n",
              " 45936,\n",
              " 45978,\n",
              " 45992,\n",
              " 45998,\n",
              " 46009,\n",
              " 46016,\n",
              " 46028,\n",
              " 46034,\n",
              " 46058,\n",
              " 46068,\n",
              " 46083,\n",
              " 46096,\n",
              " 46212,\n",
              " 46219,\n",
              " 46224,\n",
              " 46238,\n",
              " 46256,\n",
              " 46266,\n",
              " 46288,\n",
              " 46408,\n",
              " 46457,\n",
              " 46543,\n",
              " 46572,\n",
              " 46602,\n",
              " 46633,\n",
              " 46646,\n",
              " 46650,\n",
              " 46671,\n",
              " 46683,\n",
              " 46693,\n",
              " 46699,\n",
              " 46707,\n",
              " 46717,\n",
              " 46722,\n",
              " 46736,\n",
              " 46747,\n",
              " 46761,\n",
              " 46770,\n",
              " 46774,\n",
              " 46785,\n",
              " 46801,\n",
              " 46807,\n",
              " 46810,\n",
              " 46813,\n",
              " 46817,\n",
              " 46822,\n",
              " 46826,\n",
              " 46829,\n",
              " 46837,\n",
              " 46841,\n",
              " 46849,\n",
              " 46853,\n",
              " 46873,\n",
              " 46878,\n",
              " 46881,\n",
              " 46888,\n",
              " 46891,\n",
              " 46896,\n",
              " 46905,\n",
              " 46910,\n",
              " 46921,\n",
              " 46926,\n",
              " 46930,\n",
              " 46933,\n",
              " 46937,\n",
              " 46943,\n",
              " 46946,\n",
              " 46958,\n",
              " 46964,\n",
              " 46969,\n",
              " 46976,\n",
              " 46981,\n",
              " 46987,\n",
              " 46990,\n",
              " 47001,\n",
              " 47008,\n",
              " 47017,\n",
              " 47028,\n",
              " 47035,\n",
              " 47039,\n",
              " 47048,\n",
              " 47052,\n",
              " 47059,\n",
              " 47065,\n",
              " 47070,\n",
              " 47074,\n",
              " 47092,\n",
              " 47099,\n",
              " 47105,\n",
              " 47108,\n",
              " 47116,\n",
              " 47119,\n",
              " 47122,\n",
              " 47128,\n",
              " 47132,\n",
              " 47144,\n",
              " 47148,\n",
              " 47152,\n",
              " 47155,\n",
              " 47165,\n",
              " 47171,\n",
              " 47181,\n",
              " 47190,\n",
              " 47206,\n",
              " 47214,\n",
              " 47221,\n",
              " 47233,\n",
              " 47241,\n",
              " 47252,\n",
              " 47256,\n",
              " 47262,\n",
              " 47274,\n",
              " 47277,\n",
              " 47282,\n",
              " 47298,\n",
              " 47304,\n",
              " 47309,\n",
              " 47321,\n",
              " 47329,\n",
              " 47349,\n",
              " 47353,\n",
              " 47364,\n",
              " 47368,\n",
              " 47377,\n",
              " 47381,\n",
              " 47392,\n",
              " 47402,\n",
              " 47418,\n",
              " 47439,\n",
              " 47454,\n",
              " 47462,\n",
              " 47474,\n",
              " 47511,\n",
              " 47517,\n",
              " 47523,\n",
              " 47530,\n",
              " 47552,\n",
              " 47561,\n",
              " 47575,\n",
              " 47584,\n",
              " 47596,\n",
              " 47600,\n",
              " 47612,\n",
              " 47616,\n",
              " 47628,\n",
              " 47638,\n",
              " 47649,\n",
              " 47661,\n",
              " 47743,\n",
              " 47771,\n",
              " 47843,\n",
              " 47871,\n",
              " 47884,\n",
              " 47898,\n",
              " 47907,\n",
              " 47914,\n",
              " 47922,\n",
              " 47940,\n",
              " 47970,\n",
              " 47975,\n",
              " 47988,\n",
              " 48011,\n",
              " 48015,\n",
              " 48025,\n",
              " 48040,\n",
              " 48051,\n",
              " 48079,\n",
              " 48095,\n",
              " 48099,\n",
              " 48114,\n",
              " 48123,\n",
              " 48168,\n",
              " 48180,\n",
              " 48188,\n",
              " 48224,\n",
              " 48236,\n",
              " 48241,\n",
              " 48257,\n",
              " 48261,\n",
              " 48265,\n",
              " 48288,\n",
              " 48299,\n",
              " 48303,\n",
              " 48314,\n",
              " 48332,\n",
              " 48335,\n",
              " 48341,\n",
              " 48354,\n",
              " 48364,\n",
              " 48367,\n",
              " 48375,\n",
              " 48379,\n",
              " 48398,\n",
              " 48401,\n",
              " 48407,\n",
              " 48413,\n",
              " 48422,\n",
              " 48437,\n",
              " 48458,\n",
              " 48469,\n",
              " 48479,\n",
              " 48492,\n",
              " 48501,\n",
              " 48520,\n",
              " 48542,\n",
              " 48547,\n",
              " 48574,\n",
              " 48634,\n",
              " 48761,\n",
              " 48828,\n",
              " 48833,\n",
              " 48860,\n",
              " 48876,\n",
              " 48915,\n",
              " 48966,\n",
              " 48975,\n",
              " 49050,\n",
              " 49070,\n",
              " 49108,\n",
              " 49327,\n",
              " 49637,\n",
              " 49860,\n",
              " 49886,\n",
              " 49915,\n",
              " 49946,\n",
              " 49966,\n",
              " 49982,\n",
              " 50014,\n",
              " 50040,\n",
              " 50044,\n",
              " 50063,\n",
              " 50071,\n",
              " 50090,\n",
              " 51186,\n",
              " 51196,\n",
              " 51213,\n",
              " 51296,\n",
              " 51340,\n",
              " 51360,\n",
              " 51369,\n",
              " 51403,\n",
              " 51410,\n",
              " 51421,\n",
              " 51425,\n",
              " 51429,\n",
              " 51441,\n",
              " 51447,\n",
              " 51455,\n",
              " 51510,\n",
              " 51532,\n",
              " 51558,\n",
              " 51575,\n",
              " 51597,\n",
              " 51608,\n",
              " 51626,\n",
              " 51634,\n",
              " 51661,\n",
              " 51674,\n",
              " 51679,\n",
              " 51795,\n",
              " 52040,\n",
              " 52086,\n",
              " 52101,\n",
              " 52292,\n",
              " 52335,\n",
              " 52348,\n",
              " 52352,\n",
              " 52358,\n",
              " 52371,\n",
              " 52378,\n",
              " 52385,\n",
              " 52389,\n",
              " 52395,\n",
              " 52411,\n",
              " 52421,\n",
              " 52430,\n",
              " 52438,\n",
              " 52454,\n",
              " 52465,\n",
              " 52474,\n",
              " 52493,\n",
              " 52497,\n",
              " 52564,\n",
              " 52589,\n",
              " 52592,\n",
              " 52608,\n",
              " 52612,\n",
              " 52636,\n",
              " 52644,\n",
              " 52675,\n",
              " 52717,\n",
              " 52734,\n",
              " 52739,\n",
              " 52753,\n",
              " 52778,\n",
              " 52786,\n",
              " 52796,\n",
              " 52800,\n",
              " 52817,\n",
              " 52826,\n",
              " 52863,\n",
              " 52909,\n",
              " 52926,\n",
              " 52968,\n",
              " 53029,\n",
              " 53166,\n",
              " 53169,\n",
              " 53177,\n",
              " 53186,\n",
              " 53194,\n",
              " 53218,\n",
              " 53241,\n",
              " 53417,\n",
              " 53454,\n",
              " 53494,\n",
              " 53690,\n",
              " 54088,\n",
              " 54131,\n",
              " 54144,\n",
              " 54171,\n",
              " 54318,\n",
              " 54331,\n",
              " 54377,\n",
              " 56386,\n",
              " 56391,\n",
              " 56398,\n",
              " 56401,\n",
              " 56426,\n",
              " 56434,\n",
              " 56447,\n",
              " 56457,\n",
              " 57190,\n",
              " 57214,\n",
              " 57218,\n",
              " 57246,\n",
              " 57258,\n",
              " 57278,\n",
              " 57289,\n",
              " 57299,\n",
              " 57314,\n",
              " 57322,\n",
              " 57326,\n",
              " 57335,\n",
              " 57376,\n",
              " 57386,\n",
              " 57409,\n",
              " 57419,\n",
              " 57434,\n",
              " 57465,\n",
              " 57474,\n",
              " 57488,\n",
              " 57496,\n",
              " 57506,\n",
              " 57515,\n",
              " 57518,\n",
              " 57531,\n",
              " 57540,\n",
              " 57551,\n",
              " 57574,\n",
              " 57579,\n",
              " 57597,\n",
              " 57608,\n",
              " 57613,\n",
              " 58704,\n",
              " 60140,\n",
              " 60495,\n",
              " 60501,\n",
              " 60506,\n",
              " 60513,\n",
              " 60584,\n",
              " 60679,\n",
              " 61025,\n",
              " 61572,\n",
              " 61614,\n",
              " 61712,\n",
              " 61781,\n",
              " 61841,\n",
              " 62141,\n",
              " 62151,\n",
              " 62161,\n",
              " 62167,\n",
              " 62207,\n",
              " 62213,\n",
              " 62220,\n",
              " 62234,\n",
              " 62244,\n",
              " 62254,\n",
              " 62518,\n",
              " 62544,\n",
              " 62551,\n",
              " 62564,\n",
              " 62576,\n",
              " 62595,\n",
              " 62619,\n",
              " 62624,\n",
              " 62681,\n",
              " 62688,\n",
              " 62756,\n",
              " 62782,\n",
              " 62789,\n",
              " 63028,\n",
              " 63132,\n",
              " 64500,\n",
              " 64522,\n",
              " 64530,\n",
              " 64542,\n",
              " 64550,\n",
              " 64565,\n",
              " 64574,\n",
              " 64722,\n",
              " 64784,\n",
              " 64816,\n",
              " 64827,\n",
              " 64904,\n",
              " 64937,\n",
              " 64957,\n",
              " 64985,\n",
              " 64994,\n",
              " 65051,\n",
              " 65075,\n",
              " 65089,\n",
              " 65114,\n",
              " 65124,\n",
              " 65134,\n",
              " 65157,\n",
              " 65694,\n",
              " 65731,\n",
              " 65751,\n",
              " 65780,\n",
              " 65821,\n",
              " 65932,\n",
              " 65935,\n",
              " 65942,\n",
              " 65959,\n",
              " 65974,\n",
              " 66027,\n",
              " 66042,\n",
              " 66080,\n",
              " 66292,\n",
              " 66311,\n",
              " 66321,\n",
              " 66367,\n",
              " 66381,\n",
              " 67767,\n",
              " 69606,\n",
              " 69910,\n",
              " 69923,\n",
              " 70354,\n",
              " 70362,\n",
              " 70378,\n",
              " 70469,\n",
              " 70902,\n",
              " 71015,\n",
              " 72252,\n",
              " 72276,\n",
              " 72295,\n",
              " 72310,\n",
              " 72318,\n",
              " 72347,\n",
              " 72712,\n",
              " 74378,\n",
              " 74497,\n",
              " 74506,\n",
              " 74510,\n",
              " 74526,\n",
              " 74531,\n",
              " 74672,\n",
              " 74888,\n",
              " 74917,\n",
              " 75059,\n",
              " 75563,\n",
              " 75596,\n",
              " 75615,\n",
              " ...)"
            ]
          },
          "metadata": {},
          "execution_count": 43
        }
      ],
      "source": [
        "ds"
      ]
    },
    {
      "cell_type": "code",
      "execution_count": 44,
      "metadata": {
        "colab": {
          "base_uri": "https://localhost:8080/"
        },
        "id": "kT-3VNVKUddM",
        "outputId": "5309ea2f-2923-4626-f378-34cbea1614e7"
      },
      "outputs": [
        {
          "output_type": "execute_result",
          "data": {
            "text/plain": [
              "['6. sza-tu3-uk-ki li-sza-ar-bi4-u2 {d}iszkur / _lugal_']"
            ]
          },
          "metadata": {},
          "execution_count": 44
        }
      ],
      "source": [
        "A.getSource(ln)"
      ]
    },
    {
      "cell_type": "code",
      "execution_count": 45,
      "metadata": {
        "colab": {
          "base_uri": "https://localhost:8080/",
          "height": 36
        },
        "id": "ynlO1rI_UgC7",
        "outputId": "e601eb7f-835b-45ed-da6a-6275057b9476"
      },
      "outputs": [
        {
          "output_type": "execute_result",
          "data": {
            "text/plain": [
              "'sza-tu3-uk-ki li-sza-ar-bi4-u2 {d}iszkur / _lugal_'"
            ],
            "application/vnd.google.colaboratory.intrinsic+json": {
              "type": "string"
            }
          },
          "metadata": {},
          "execution_count": 45
        }
      ],
      "source": [
        "T.text(ln)"
      ]
    },
    {
      "cell_type": "code",
      "execution_count": 46,
      "metadata": {
        "colab": {
          "base_uri": "https://localhost:8080/",
          "height": 36
        },
        "id": "d1TzpcrPUjEz",
        "outputId": "10d8e109-bca8-49c1-f50d-21c1248107ef"
      },
      "outputs": [
        {
          "output_type": "execute_result",
          "data": {
            "text/plain": [
              "'sza-tu3-uk-ki li-sza-ar-bi4-u2 d⁼iszkur / lugal'"
            ],
            "application/vnd.google.colaboratory.intrinsic+json": {
              "type": "string"
            }
          },
          "metadata": {},
          "execution_count": 46
        }
      ],
      "source": [
        "T.text(ln, fmt=\"text-orig-plain\")"
      ]
    },
    {
      "cell_type": "code",
      "execution_count": 47,
      "metadata": {
        "colab": {
          "base_uri": "https://localhost:8080/",
          "height": 36
        },
        "id": "2XP6uDlvUk7k",
        "outputId": "6446a7c2-ca52-452e-8d7a-1a759a0a089a"
      },
      "outputs": [
        {
          "output_type": "execute_result",
          "data": {
            "text/plain": [
              "'ša-tu₃-uk-ki li-ša-ar-bi₄-u₂ d⁼iškur / lugal'"
            ],
            "application/vnd.google.colaboratory.intrinsic+json": {
              "type": "string"
            }
          },
          "metadata": {},
          "execution_count": 47
        }
      ],
      "source": [
        "T.text(ln, fmt=\"text-orig-rich\")"
      ]
    },
    {
      "cell_type": "code",
      "execution_count": 48,
      "metadata": {
        "colab": {
          "base_uri": "https://localhost:8080/",
          "height": 36
        },
        "id": "7A5pp_GezvPn",
        "outputId": "bdceca69-0473-40b6-8a53-cae1b689ba20"
      },
      "outputs": [
        {
          "output_type": "execute_result",
          "data": {
            "text/plain": [
              "'𒊭𒁺𒊌𒆠 𒇷𒊭𒅈𒁁𒌑 𒀭𒅎 𒁹 𒈗'"
            ],
            "application/vnd.google.colaboratory.intrinsic+json": {
              "type": "string"
            }
          },
          "metadata": {},
          "execution_count": 48
        }
      ],
      "source": [
        "T.text(ln, fmt=\"text-orig-unicode\")"
      ]
    },
    {
      "cell_type": "code",
      "execution_count": 49,
      "metadata": {
        "colab": {
          "base_uri": "https://localhost:8080/"
        },
        "id": "ZR8_kWXAzxps",
        "outputId": "66c56c56-1be6-4105-8ce0-71046a43bd7c"
      },
      "outputs": [
        {
          "output_type": "stream",
          "name": "stdout",
          "text": [
            "<div class=\" pl-mode\"><span class=\"tfsechead \"><span class=\"ltr\">P390626 left:6 => https:/cdli.ucla.edu/search/search_results.php?SearchMode=Text&ObjectID=P390626</span></span>  <span class=\"txtu akk\">𒊭</span><span class=\"txtu akk\">𒁺</span><span class=\"txtu akk\">𒊌</span><span class=\"txtu akk\">𒆠 </span><span class=\"txtu akk\">𒇷</span><span class=\"txtu akk\">𒊭</span><span class=\"txtu akk\">𒅈</span><span class=\"txtu akk\">𒁁</span><span class=\"txtu akk\">𒌑 </span><span class=\"txtu akk\">𒀭</span><span class=\"txtu akk\">𒅎 </span><span class=\"txtu akk\">𒁹 </span><span class=\"txtu akk\">𒈗</span></div>\n"
          ]
        }
      ],
      "source": [
        "A.plain(ln, fmt=\"text-orig-unicode\")"
      ]
    },
    {
      "cell_type": "markdown",
      "metadata": {
        "id": "1WHCgPFRz1fK"
      },
      "source": [
        "with word divideer highlighted"
      ]
    },
    {
      "cell_type": "code",
      "execution_count": 50,
      "metadata": {
        "colab": {
          "base_uri": "https://localhost:8080/"
        },
        "id": "jBUCri-qzzHd",
        "outputId": "f9f70bdb-6ee2-447c-a931-0137bfaa944c"
      },
      "outputs": [
        {
          "output_type": "stream",
          "name": "stdout",
          "text": [
            "<div class=\" pl-mode\"><span class=\"tfsechead \"><span class=\"ltr\">P390626 left:6 => https:/cdli.ucla.edu/search/search_results.php?SearchMode=Text&ObjectID=P390626</span></span>  <span class=\"txtu akk\">𒊭</span><span class=\"txtu akk\">𒁺</span><span class=\"txtu akk\">𒊌</span><span class=\"txtu akk\">𒆠 </span><span class=\"txtu akk\">𒇷</span><span class=\"txtu akk\">𒊭</span><span class=\"txtu akk\">𒅈</span><span class=\"txtu akk\">𒁁</span><span class=\"txtu akk\">𒌑 </span><span class=\"txtu akk\">𒀭</span><span class=\"txtu akk\">𒅎 </span><span class=\"plain   hl\" ><span class=\"txtu akk\">𒁹 </span></span><span class=\"txtu akk\">𒈗</span></div>\n"
          ]
        }
      ],
      "source": [
        "A.plain(ln, fmt=\"text-orig-unicode\", highlights=set(ds))"
      ]
    },
    {
      "cell_type": "code",
      "execution_count": 51,
      "metadata": {
        "colab": {
          "base_uri": "https://localhost:8080/"
        },
        "id": "DRQiMPjFz4UV",
        "outputId": "f05f4093-ddaa-4959-d498-4de114dda435"
      },
      "outputs": [
        {
          "output_type": "stream",
          "name": "stdout",
          "text": [
            "  0.00s writing plain text of all letters in all text formats\n",
            "  6.04s done 4 formats\n",
            "text-orig-full\n",
            "_lugal_ lugal-ke-en6 _lugal_\n",
            "a-ki-di2-e re-be-tim _lugal_\n",
            "da-num sza isz-ti2 i-le-e\n",
            "e-ta-wu-ni {d}iszkur da-nu-tam2\n",
            "i-di2-szu-ma isz-tu3 s,i2-it\n",
            "\n",
            "text-orig-plain\n",
            "lugal lugal-ke-en6 lugal\n",
            "a-ki-di2-e re-be-tim lugal\n",
            "da-num sza isz-ti2 i-le-e\n",
            "e-ta-wu-ni d⁼iszkur da-nu-tam2\n",
            "i-di2-szu-ma isz-tu3 s,i2-it\n",
            "\n",
            "text-orig-rich\n",
            "lugal lugal-ke-en₆ lugal\n",
            "a-ki-di₂-e re-be-tim lugal\n",
            "da-num ša iš-ti₂ i-le-e\n",
            "e-ta-wu-ni d⁼iškur da-nu-tam₂\n",
            "i-di₂-šu-ma iš-tu₃ ṣi₂-it\n",
            "\n",
            "text-orig-unicode\n",
            "𒈗 𒈗𒆠𒅔 𒈗\n",
            "𒀀𒆠𒊹𒂊 𒊑𒁁𒁴 𒈗\n",
            "𒁕𒉏 𒊭 𒅖𒊹 𒄿𒇷𒂊\n",
            "𒂊𒋫𒉿𒉌 𒀭𒅎 𒁕𒉡𒁮\n",
            "𒄿𒊹𒋗𒈠 𒅖𒁺 𒍣𒀉\n",
            "\n"
          ]
        }
      ],
      "source": [
        "A.indent(reset=True)\n",
        "A.info(\"writing plain text of all letters in all text formats\")\n",
        "\n",
        "text = collections.defaultdict(list)\n",
        "\n",
        "for ln in F.otype.s(\"line\"):\n",
        "    for fmt in sorted(T.formats):\n",
        "        if fmt.startswith(\"text-\"):\n",
        "            text[fmt].append(T.text(ln, fmt=fmt, descend=True))\n",
        "\n",
        "A.info(\"done {} formats\".format(len(text)))\n",
        "\n",
        "for fmt in sorted(text):\n",
        "    print(\"{}\\n{}\\n\".format(fmt, \"\\n\".join(text[fmt][0:5])))"
      ]
    },
    {
      "cell_type": "code",
      "execution_count": 53,
      "metadata": {
        "id": "IrVRUwYYz--K"
      },
      "outputs": [],
      "source": [
        "for fmt in T.formats:\n",
        "    if fmt.startswith(\"text-\"):\n",
        "        with open(os.path.expanduser(f\"/content/drive/MyDrive/{fmt}.txt\"), \"w\") as f:\n",
        "            f.write(\"\\n\".join(text[fmt]))"
      ]
    },
    {
      "cell_type": "code",
      "execution_count": 54,
      "metadata": {
        "id": "Ybzt22qE0A_O"
      },
      "outputs": [],
      "source": [
        "someNodes = (\n",
        "    F.otype.s(\"sign\")[100000],\n",
        "    F.otype.s(\"word\")[10000],\n",
        "    F.otype.s(\"cluster\")[5000],\n",
        "    F.otype.s(\"line\")[15000],\n",
        "    F.otype.s(\"face\")[1000],\n",
        "    F.otype.s(\"document\")[500],\n",
        ")"
      ]
    },
    {
      "cell_type": "code",
      "execution_count": 55,
      "metadata": {
        "colab": {
          "base_uri": "https://localhost:8080/"
        },
        "id": "fej73ald0C29",
        "outputId": "dcafb1ce-07d2-4e1a-c2f0-e0edb423ddcb"
      },
      "outputs": [
        {
          "output_type": "stream",
          "name": "stdout",
          "text": [
            " 100001 sign     - P361585 reverse:5  P361585 reverse:5  ((849102, 854752, 879010), (849102, 854752, 879010))\n",
            " 985132 word     - P360578 reverse:10 P360578 reverse:10 ((848733, 853846, 869271), (848733, 853846, 869271))\n",
            " 771502 cluster  - P390597 reverse:14 P390597 reverse:14 ((848876, 854199, 873114), (848876, 854199, 873114))\n",
            " 880272 line     - P358365 left:4     P358365 left:4     ((849149, 854885, 880272), (849149, 854885, 880272))\n",
            " 854362 face     - P390640 reverse    P390640 reverse:6  ((848941, 854362), (848941, 854362, 874900))\n",
            " 849087 document - P390603            P390603 obverse:29 ((849087,), (849087, 854715, 878463))\n"
          ]
        }
      ],
      "source": [
        "for n in someNodes:\n",
        "    nType = F.otype.v(n)\n",
        "    d = f\"{n:>7} {nType}\"\n",
        "    first = A.sectionStrFromNode(n)\n",
        "    last = A.sectionStrFromNode(n, lastSlot=True, fillup=True)\n",
        "    tup = (\n",
        "        T.sectionTuple(n),\n",
        "        T.sectionTuple(n, lastSlot=True, fillup=True),\n",
        "    )\n",
        "    print(f\"{d:<16} - {first:<18} {last:<18} {tup}\")"
      ]
    },
    {
      "cell_type": "markdown",
      "metadata": {
        "id": "Fg2CdmSUo4kD"
      },
      "source": [
        "####For the alignment task, create a csv file with the IDs below (so it can be used in the other notebook):"
      ]
    },
    {
      "cell_type": "code",
      "execution_count": 56,
      "metadata": {
        "colab": {
          "base_uri": "https://localhost:8080/"
        },
        "id": "zhFjeR7gpNe9",
        "outputId": "7356b1fc-9838-4859-af44-74c19dced901"
      },
      "outputs": [
        {
          "output_type": "stream",
          "name": "stdout",
          "text": [
            "Wrote ids.csv with one ID per line.\n"
          ]
        }
      ],
      "source": [
        "import csv\n",
        "\n",
        "ids = sorted(ds)  # reproducible order\n",
        "\n",
        "with open(\"ids.csv\", \"w\", newline=\"\", encoding=\"utf-8\") as f:\n",
        "    w = csv.writer(f)\n",
        "    w.writerow([\"wdiv_node_id\"])        # header\n",
        "    for nid in ids:\n",
        "        w.writerow([nid])               # one ID per row\n",
        "\n",
        "print(\"Wrote ids.csv with one ID per line.\")"
      ]
    },
    {
      "cell_type": "markdown",
      "metadata": {
        "id": "XNSbcQx6zAI6"
      },
      "source": [
        "using the search tutorial:"
      ]
    },
    {
      "cell_type": "code",
      "execution_count": 57,
      "metadata": {
        "colab": {
          "base_uri": "https://localhost:8080/"
        },
        "id": "jbGmSGZU3OTf",
        "outputId": "75336f8a-d2b3-47bd-a57e-decee61f0abb"
      },
      "outputs": [
        {
          "output_type": "execute_result",
          "data": {
            "text/plain": [
              "['ARK',\n",
              " 'after',\n",
              " 'afterr',\n",
              " 'afteru',\n",
              " 'atf',\n",
              " 'atfpost',\n",
              " 'atfpre',\n",
              " 'author',\n",
              " 'col',\n",
              " 'collection',\n",
              " 'comment',\n",
              " 'damage',\n",
              " 'det',\n",
              " 'docnote',\n",
              " 'docnumber',\n",
              " 'excavation',\n",
              " 'excised',\n",
              " 'face',\n",
              " 'flags',\n",
              " 'fraction',\n",
              " 'genre',\n",
              " 'grapheme',\n",
              " 'graphemer',\n",
              " 'graphemeu',\n",
              " 'lang',\n",
              " 'langalt',\n",
              " 'ln',\n",
              " 'lnc',\n",
              " 'lnno',\n",
              " 'material',\n",
              " 'missing',\n",
              " 'museumcode',\n",
              " 'museumname',\n",
              " 'object',\n",
              " 'operator',\n",
              " 'operatorr',\n",
              " 'operatoru',\n",
              " 'oslots',\n",
              " 'otext',\n",
              " 'otype',\n",
              " 'period',\n",
              " 'pnumber',\n",
              " 'primecol',\n",
              " 'primeln',\n",
              " 'pubdate',\n",
              " 'question',\n",
              " 'reading',\n",
              " 'readingr',\n",
              " 'readingu',\n",
              " 'remarkable',\n",
              " 'remarks',\n",
              " 'repeat',\n",
              " 'srcLn',\n",
              " 'srcLnNum',\n",
              " 'srcfile',\n",
              " 'subgenre',\n",
              " 'supplied',\n",
              " 'sym',\n",
              " 'symr',\n",
              " 'symu',\n",
              " 'trans',\n",
              " 'transcriber',\n",
              " 'translation@en',\n",
              " 'type',\n",
              " 'uncertain',\n",
              " 'version',\n",
              " 'volume',\n",
              " '__levels__',\n",
              " '__order__',\n",
              " '__rank__',\n",
              " '__levUp__',\n",
              " '__levDown__',\n",
              " '__characters__',\n",
              " '__boundary__',\n",
              " '__sections__',\n",
              " '__structure__']"
            ]
          },
          "metadata": {},
          "execution_count": 57
        }
      ],
      "source": [
        "# Assuming 'TF' is your Text-Fabric API instance and 'wdiv' is a single node from your dataset\n",
        "features = TF.features\n",
        "list(features)"
      ]
    },
    {
      "cell_type": "code",
      "execution_count": 58,
      "metadata": {
        "colab": {
          "base_uri": "https://localhost:8080/",
          "height": 423
        },
        "id": "NsMc_CIxz5Sy",
        "outputId": "86c05201-80ad-45ec-d494-30d511fb31f5"
      },
      "outputs": [
        {
          "output_type": "execute_result",
          "data": {
            "text/plain": [
              "       Identifier                                        Line Text\n",
              "0             691  sza-tu3-uk-ki li-sza-ar-bi4-u2 d⁼iszkur / lugal\n",
              "1            1281                                qi2-bi-ma / um-ma\n",
              "2            1330             e-me-ra-am / e-te2-me er / a-szu-mi3\n",
              "3            1335             e-me-ra-am / e-te2-me er / a-szu-mi3\n",
              "4            1402         a-la2-ki-ka3 / ku3-babbar zi-tam2 sza e2\n",
              "...           ...                                              ...\n",
              "14390      765625                       sza a-wi-la2-tim / gal ...\n",
              "14391      765641               a-tal-ka3-ni / ta-asz2-ta-ak-n ...\n",
              "14392      765661                    li-ta-ab2-szi2 / dingir-lu-um\n",
              "14393      765669                       i-ba-ri-ni / lu i-de8 a-na\n",
              "14394      766402                            lu-lu-u2 / a-hi-ib-lu\n",
              "\n",
              "[14395 rows x 2 columns]"
            ],
            "text/html": [
              "\n",
              "  <div id=\"df-7b06e610-5146-4f45-bb7f-0ab7c346b399\" class=\"colab-df-container\">\n",
              "    <div>\n",
              "<style scoped>\n",
              "    .dataframe tbody tr th:only-of-type {\n",
              "        vertical-align: middle;\n",
              "    }\n",
              "\n",
              "    .dataframe tbody tr th {\n",
              "        vertical-align: top;\n",
              "    }\n",
              "\n",
              "    .dataframe thead th {\n",
              "        text-align: right;\n",
              "    }\n",
              "</style>\n",
              "<table border=\"1\" class=\"dataframe\">\n",
              "  <thead>\n",
              "    <tr style=\"text-align: right;\">\n",
              "      <th></th>\n",
              "      <th>Identifier</th>\n",
              "      <th>Line Text</th>\n",
              "    </tr>\n",
              "  </thead>\n",
              "  <tbody>\n",
              "    <tr>\n",
              "      <th>0</th>\n",
              "      <td>691</td>\n",
              "      <td>sza-tu3-uk-ki li-sza-ar-bi4-u2 d⁼iszkur / lugal</td>\n",
              "    </tr>\n",
              "    <tr>\n",
              "      <th>1</th>\n",
              "      <td>1281</td>\n",
              "      <td>qi2-bi-ma / um-ma</td>\n",
              "    </tr>\n",
              "    <tr>\n",
              "      <th>2</th>\n",
              "      <td>1330</td>\n",
              "      <td>e-me-ra-am / e-te2-me er / a-szu-mi3</td>\n",
              "    </tr>\n",
              "    <tr>\n",
              "      <th>3</th>\n",
              "      <td>1335</td>\n",
              "      <td>e-me-ra-am / e-te2-me er / a-szu-mi3</td>\n",
              "    </tr>\n",
              "    <tr>\n",
              "      <th>4</th>\n",
              "      <td>1402</td>\n",
              "      <td>a-la2-ki-ka3 / ku3-babbar zi-tam2 sza e2</td>\n",
              "    </tr>\n",
              "    <tr>\n",
              "      <th>...</th>\n",
              "      <td>...</td>\n",
              "      <td>...</td>\n",
              "    </tr>\n",
              "    <tr>\n",
              "      <th>14390</th>\n",
              "      <td>765625</td>\n",
              "      <td>sza a-wi-la2-tim / gal ...</td>\n",
              "    </tr>\n",
              "    <tr>\n",
              "      <th>14391</th>\n",
              "      <td>765641</td>\n",
              "      <td>a-tal-ka3-ni / ta-asz2-ta-ak-n ...</td>\n",
              "    </tr>\n",
              "    <tr>\n",
              "      <th>14392</th>\n",
              "      <td>765661</td>\n",
              "      <td>li-ta-ab2-szi2 / dingir-lu-um</td>\n",
              "    </tr>\n",
              "    <tr>\n",
              "      <th>14393</th>\n",
              "      <td>765669</td>\n",
              "      <td>i-ba-ri-ni / lu i-de8 a-na</td>\n",
              "    </tr>\n",
              "    <tr>\n",
              "      <th>14394</th>\n",
              "      <td>766402</td>\n",
              "      <td>lu-lu-u2 / a-hi-ib-lu</td>\n",
              "    </tr>\n",
              "  </tbody>\n",
              "</table>\n",
              "<p>14395 rows × 2 columns</p>\n",
              "</div>\n",
              "    <div class=\"colab-df-buttons\">\n",
              "\n",
              "  <div class=\"colab-df-container\">\n",
              "    <button class=\"colab-df-convert\" onclick=\"convertToInteractive('df-7b06e610-5146-4f45-bb7f-0ab7c346b399')\"\n",
              "            title=\"Convert this dataframe to an interactive table.\"\n",
              "            style=\"display:none;\">\n",
              "\n",
              "  <svg xmlns=\"http://www.w3.org/2000/svg\" height=\"24px\" viewBox=\"0 -960 960 960\">\n",
              "    <path d=\"M120-120v-720h720v720H120Zm60-500h600v-160H180v160Zm220 220h160v-160H400v160Zm0 220h160v-160H400v160ZM180-400h160v-160H180v160Zm440 0h160v-160H620v160ZM180-180h160v-160H180v160Zm440 0h160v-160H620v160Z\"/>\n",
              "  </svg>\n",
              "    </button>\n",
              "\n",
              "  <style>\n",
              "    .colab-df-container {\n",
              "      display:flex;\n",
              "      gap: 12px;\n",
              "    }\n",
              "\n",
              "    .colab-df-convert {\n",
              "      background-color: #E8F0FE;\n",
              "      border: none;\n",
              "      border-radius: 50%;\n",
              "      cursor: pointer;\n",
              "      display: none;\n",
              "      fill: #1967D2;\n",
              "      height: 32px;\n",
              "      padding: 0 0 0 0;\n",
              "      width: 32px;\n",
              "    }\n",
              "\n",
              "    .colab-df-convert:hover {\n",
              "      background-color: #E2EBFA;\n",
              "      box-shadow: 0px 1px 2px rgba(60, 64, 67, 0.3), 0px 1px 3px 1px rgba(60, 64, 67, 0.15);\n",
              "      fill: #174EA6;\n",
              "    }\n",
              "\n",
              "    .colab-df-buttons div {\n",
              "      margin-bottom: 4px;\n",
              "    }\n",
              "\n",
              "    [theme=dark] .colab-df-convert {\n",
              "      background-color: #3B4455;\n",
              "      fill: #D2E3FC;\n",
              "    }\n",
              "\n",
              "    [theme=dark] .colab-df-convert:hover {\n",
              "      background-color: #434B5C;\n",
              "      box-shadow: 0px 1px 3px 1px rgba(0, 0, 0, 0.15);\n",
              "      filter: drop-shadow(0px 1px 2px rgba(0, 0, 0, 0.3));\n",
              "      fill: #FFFFFF;\n",
              "    }\n",
              "  </style>\n",
              "\n",
              "    <script>\n",
              "      const buttonEl =\n",
              "        document.querySelector('#df-7b06e610-5146-4f45-bb7f-0ab7c346b399 button.colab-df-convert');\n",
              "      buttonEl.style.display =\n",
              "        google.colab.kernel.accessAllowed ? 'block' : 'none';\n",
              "\n",
              "      async function convertToInteractive(key) {\n",
              "        const element = document.querySelector('#df-7b06e610-5146-4f45-bb7f-0ab7c346b399');\n",
              "        const dataTable =\n",
              "          await google.colab.kernel.invokeFunction('convertToInteractive',\n",
              "                                                    [key], {});\n",
              "        if (!dataTable) return;\n",
              "\n",
              "        const docLinkHtml = 'Like what you see? Visit the ' +\n",
              "          '<a target=\"_blank\" href=https://colab.research.google.com/notebooks/data_table.ipynb>data table notebook</a>'\n",
              "          + ' to learn more about interactive tables.';\n",
              "        element.innerHTML = '';\n",
              "        dataTable['output_type'] = 'display_data';\n",
              "        await google.colab.output.renderOutput(dataTable, element);\n",
              "        const docLink = document.createElement('div');\n",
              "        docLink.innerHTML = docLinkHtml;\n",
              "        element.appendChild(docLink);\n",
              "      }\n",
              "    </script>\n",
              "  </div>\n",
              "\n",
              "\n",
              "    <div id=\"df-2f0dd29f-75ad-44ce-ada3-9ebf932e5326\">\n",
              "      <button class=\"colab-df-quickchart\" onclick=\"quickchart('df-2f0dd29f-75ad-44ce-ada3-9ebf932e5326')\"\n",
              "                title=\"Suggest charts\"\n",
              "                style=\"display:none;\">\n",
              "\n",
              "<svg xmlns=\"http://www.w3.org/2000/svg\" height=\"24px\"viewBox=\"0 0 24 24\"\n",
              "     width=\"24px\">\n",
              "    <g>\n",
              "        <path d=\"M19 3H5c-1.1 0-2 .9-2 2v14c0 1.1.9 2 2 2h14c1.1 0 2-.9 2-2V5c0-1.1-.9-2-2-2zM9 17H7v-7h2v7zm4 0h-2V7h2v10zm4 0h-2v-4h2v4z\"/>\n",
              "    </g>\n",
              "</svg>\n",
              "      </button>\n",
              "\n",
              "<style>\n",
              "  .colab-df-quickchart {\n",
              "      --bg-color: #E8F0FE;\n",
              "      --fill-color: #1967D2;\n",
              "      --hover-bg-color: #E2EBFA;\n",
              "      --hover-fill-color: #174EA6;\n",
              "      --disabled-fill-color: #AAA;\n",
              "      --disabled-bg-color: #DDD;\n",
              "  }\n",
              "\n",
              "  [theme=dark] .colab-df-quickchart {\n",
              "      --bg-color: #3B4455;\n",
              "      --fill-color: #D2E3FC;\n",
              "      --hover-bg-color: #434B5C;\n",
              "      --hover-fill-color: #FFFFFF;\n",
              "      --disabled-bg-color: #3B4455;\n",
              "      --disabled-fill-color: #666;\n",
              "  }\n",
              "\n",
              "  .colab-df-quickchart {\n",
              "    background-color: var(--bg-color);\n",
              "    border: none;\n",
              "    border-radius: 50%;\n",
              "    cursor: pointer;\n",
              "    display: none;\n",
              "    fill: var(--fill-color);\n",
              "    height: 32px;\n",
              "    padding: 0;\n",
              "    width: 32px;\n",
              "  }\n",
              "\n",
              "  .colab-df-quickchart:hover {\n",
              "    background-color: var(--hover-bg-color);\n",
              "    box-shadow: 0 1px 2px rgba(60, 64, 67, 0.3), 0 1px 3px 1px rgba(60, 64, 67, 0.15);\n",
              "    fill: var(--button-hover-fill-color);\n",
              "  }\n",
              "\n",
              "  .colab-df-quickchart-complete:disabled,\n",
              "  .colab-df-quickchart-complete:disabled:hover {\n",
              "    background-color: var(--disabled-bg-color);\n",
              "    fill: var(--disabled-fill-color);\n",
              "    box-shadow: none;\n",
              "  }\n",
              "\n",
              "  .colab-df-spinner {\n",
              "    border: 2px solid var(--fill-color);\n",
              "    border-color: transparent;\n",
              "    border-bottom-color: var(--fill-color);\n",
              "    animation:\n",
              "      spin 1s steps(1) infinite;\n",
              "  }\n",
              "\n",
              "  @keyframes spin {\n",
              "    0% {\n",
              "      border-color: transparent;\n",
              "      border-bottom-color: var(--fill-color);\n",
              "      border-left-color: var(--fill-color);\n",
              "    }\n",
              "    20% {\n",
              "      border-color: transparent;\n",
              "      border-left-color: var(--fill-color);\n",
              "      border-top-color: var(--fill-color);\n",
              "    }\n",
              "    30% {\n",
              "      border-color: transparent;\n",
              "      border-left-color: var(--fill-color);\n",
              "      border-top-color: var(--fill-color);\n",
              "      border-right-color: var(--fill-color);\n",
              "    }\n",
              "    40% {\n",
              "      border-color: transparent;\n",
              "      border-right-color: var(--fill-color);\n",
              "      border-top-color: var(--fill-color);\n",
              "    }\n",
              "    60% {\n",
              "      border-color: transparent;\n",
              "      border-right-color: var(--fill-color);\n",
              "    }\n",
              "    80% {\n",
              "      border-color: transparent;\n",
              "      border-right-color: var(--fill-color);\n",
              "      border-bottom-color: var(--fill-color);\n",
              "    }\n",
              "    90% {\n",
              "      border-color: transparent;\n",
              "      border-bottom-color: var(--fill-color);\n",
              "    }\n",
              "  }\n",
              "</style>\n",
              "\n",
              "      <script>\n",
              "        async function quickchart(key) {\n",
              "          const quickchartButtonEl =\n",
              "            document.querySelector('#' + key + ' button');\n",
              "          quickchartButtonEl.disabled = true;  // To prevent multiple clicks.\n",
              "          quickchartButtonEl.classList.add('colab-df-spinner');\n",
              "          try {\n",
              "            const charts = await google.colab.kernel.invokeFunction(\n",
              "                'suggestCharts', [key], {});\n",
              "          } catch (error) {\n",
              "            console.error('Error during call to suggestCharts:', error);\n",
              "          }\n",
              "          quickchartButtonEl.classList.remove('colab-df-spinner');\n",
              "          quickchartButtonEl.classList.add('colab-df-quickchart-complete');\n",
              "        }\n",
              "        (() => {\n",
              "          let quickchartButtonEl =\n",
              "            document.querySelector('#df-2f0dd29f-75ad-44ce-ada3-9ebf932e5326 button');\n",
              "          quickchartButtonEl.style.display =\n",
              "            google.colab.kernel.accessAllowed ? 'block' : 'none';\n",
              "        })();\n",
              "      </script>\n",
              "    </div>\n",
              "\n",
              "  <div id=\"id_ed0cd2d5-e595-4265-8060-48fe3f1cc9f5\">\n",
              "    <style>\n",
              "      .colab-df-generate {\n",
              "        background-color: #E8F0FE;\n",
              "        border: none;\n",
              "        border-radius: 50%;\n",
              "        cursor: pointer;\n",
              "        display: none;\n",
              "        fill: #1967D2;\n",
              "        height: 32px;\n",
              "        padding: 0 0 0 0;\n",
              "        width: 32px;\n",
              "      }\n",
              "\n",
              "      .colab-df-generate:hover {\n",
              "        background-color: #E2EBFA;\n",
              "        box-shadow: 0px 1px 2px rgba(60, 64, 67, 0.3), 0px 1px 3px 1px rgba(60, 64, 67, 0.15);\n",
              "        fill: #174EA6;\n",
              "      }\n",
              "\n",
              "      [theme=dark] .colab-df-generate {\n",
              "        background-color: #3B4455;\n",
              "        fill: #D2E3FC;\n",
              "      }\n",
              "\n",
              "      [theme=dark] .colab-df-generate:hover {\n",
              "        background-color: #434B5C;\n",
              "        box-shadow: 0px 1px 3px 1px rgba(0, 0, 0, 0.15);\n",
              "        filter: drop-shadow(0px 1px 2px rgba(0, 0, 0, 0.3));\n",
              "        fill: #FFFFFF;\n",
              "      }\n",
              "    </style>\n",
              "    <button class=\"colab-df-generate\" onclick=\"generateWithVariable('df_with_id')\"\n",
              "            title=\"Generate code using this dataframe.\"\n",
              "            style=\"display:none;\">\n",
              "\n",
              "  <svg xmlns=\"http://www.w3.org/2000/svg\" height=\"24px\"viewBox=\"0 0 24 24\"\n",
              "       width=\"24px\">\n",
              "    <path d=\"M7,19H8.4L18.45,9,17,7.55,7,17.6ZM5,21V16.75L18.45,3.32a2,2,0,0,1,2.83,0l1.4,1.43a1.91,1.91,0,0,1,.58,1.4,1.91,1.91,0,0,1-.58,1.4L9.25,21ZM18.45,9,17,7.55Zm-12,3A5.31,5.31,0,0,0,4.9,8.1,5.31,5.31,0,0,0,1,6.5,5.31,5.31,0,0,0,4.9,4.9,5.31,5.31,0,0,0,6.5,1,5.31,5.31,0,0,0,8.1,4.9,5.31,5.31,0,0,0,12,6.5,5.46,5.46,0,0,0,6.5,12Z\"/>\n",
              "  </svg>\n",
              "    </button>\n",
              "    <script>\n",
              "      (() => {\n",
              "      const buttonEl =\n",
              "        document.querySelector('#id_ed0cd2d5-e595-4265-8060-48fe3f1cc9f5 button.colab-df-generate');\n",
              "      buttonEl.style.display =\n",
              "        google.colab.kernel.accessAllowed ? 'block' : 'none';\n",
              "\n",
              "      buttonEl.onclick = () => {\n",
              "        google.colab.notebook.generateWithVariable('df_with_id');\n",
              "      }\n",
              "      })();\n",
              "    </script>\n",
              "  </div>\n",
              "\n",
              "    </div>\n",
              "  </div>\n"
            ],
            "application/vnd.google.colaboratory.intrinsic+json": {
              "type": "dataframe",
              "variable_name": "df_with_id",
              "summary": "{\n  \"name\": \"df_with_id\",\n  \"rows\": 14395,\n  \"fields\": [\n    {\n      \"column\": \"Identifier\",\n      \"properties\": {\n        \"dtype\": \"number\",\n        \"std\": 220438,\n        \"min\": 691,\n        \"max\": 766402,\n        \"num_unique_values\": 14395,\n        \"samples\": [\n          635948,\n          524374,\n          223570\n        ],\n        \"semantic_type\": \"\",\n        \"description\": \"\"\n      }\n    },\n    {\n      \"column\": \"Line Text\",\n      \"properties\": {\n        \"dtype\": \"string\",\n        \"num_unique_values\": 12369,\n        \"samples\": [\n          \"tal-qe2-e / la2 tal-qe2-e\",\n          \"a-ta ki-ma / dumu x ...\",\n          \"szu-ma-a / a-hu ir-bi-d\\u207ciszkur\"\n        ],\n        \"semantic_type\": \"\",\n        \"description\": \"\"\n      }\n    }\n  ]\n}"
            }
          },
          "metadata": {},
          "execution_count": 58
        }
      ],
      "source": [
        "# Initialize an empty list to store your data\n",
        "data = []\n",
        "\n",
        "# Iterate over the wdiv nodes\n",
        "for wdiv in ds:\n",
        "    # Get the identifier for the wdiv using the 'pnumber' feature\n",
        "    identifier = F.pnumber.v(wdiv)  # Use the correct feature here\n",
        "    # Get all line nodes associated with this wdiv node\n",
        "    lines = L.u(wdiv, otype='line')\n",
        "\n",
        "    # Iterate over the lines and get their text\n",
        "    for ln in lines:\n",
        "        line_text = T.text(ln, fmt='text-orig-plain')\n",
        "        # Append the identifier and line text to the data list\n",
        "        data.append({\n",
        "            'Identifier': wdiv,\n",
        "            'Line Text': line_text\n",
        "        })\n",
        "\n",
        "# Convert the data list to a DataFrame\n",
        "df_with_id = pd.DataFrame(data)\n",
        "\n",
        "# Check the first few entries in the DataFrame\n",
        "df_with_id"
      ]
    },
    {
      "cell_type": "markdown",
      "source": [
        "# Query the results:\n",
        "https://nbviewer.org/github/Nino-cunei/oldassyrian/blob/master/tutorial/search.ipynb"
      ],
      "metadata": {
        "id": "WV0v238FecVr"
      }
    },
    {
      "cell_type": "code",
      "execution_count": 59,
      "metadata": {
        "id": "tt3yZ3JZO61X"
      },
      "outputs": [],
      "source": [
        "query = \"\"\"\n",
        "line\n",
        "\"\"\""
      ]
    },
    {
      "cell_type": "code",
      "execution_count": 60,
      "metadata": {
        "colab": {
          "base_uri": "https://localhost:8080/"
        },
        "id": "CqqP_dRryBEB",
        "outputId": "80be9ea1-eebb-491b-9c09-f8313e293384"
      },
      "outputs": [
        {
          "output_type": "stream",
          "name": "stdout",
          "text": [
            "  0.12s 109860 results\n",
            "<table><tr class=\"tf ltr\"><th class=\"tf ltr\">n</th><th class=\"tf ltr\">p</th><th class=\"tf ltr\">line</th></tr>\n",
            "<tr class=\"tf ltr\"><td class=\"tf ltr\">1</td><td class=\"tf ltr\"><span class=\"tfsechead ltr\"><span class=\"ltr\">P390626 obverse:1 => https:/cdli.ucla.edu/search/search_results.php?SearchMode=Text&ObjectID=P390626</span></span></td><td class=\"tf ltr\"><span class=\" ubd pl-mode\"><span class=\"txto\">_lugal_ </span><span class=\"txto\">lugal-</span><span class=\"txto\">ke-</span><span class=\"txto\">en6 </span><span class=\"txto\">_lugal_</span></span></td></tr>\n",
            "<tr class=\"tf ltr\"><td class=\"tf ltr\">2</td><td class=\"tf ltr\"><span class=\"tfsechead ltr\"><span class=\"ltr\">P390626 obverse:2 => https:/cdli.ucla.edu/search/search_results.php?SearchMode=Text&ObjectID=P390626</span></span></td><td class=\"tf ltr\"><span class=\" ubd pl-mode\"><span class=\"txto\">a-</span><span class=\"txto\">ki-</span><span class=\"txto\">di2-</span><span class=\"txto\">e </span><span class=\"txto\">re-</span><span class=\"txto\">be-</span><span class=\"txto\">tim </span><span class=\"txto\">_lugal_</span></span></td></tr>\n",
            "<tr class=\"tf ltr\"><td class=\"tf ltr\">3</td><td class=\"tf ltr\"><span class=\"tfsechead ltr\"><span class=\"ltr\">P390626 obverse:3 => https:/cdli.ucla.edu/search/search_results.php?SearchMode=Text&ObjectID=P390626</span></span></td><td class=\"tf ltr\"><span class=\" ubd pl-mode\"><span class=\"txto\">da-</span><span class=\"txto\">num </span><span class=\"txto\">sza </span><span class=\"txto\">isz-</span><span class=\"txto\">ti2 </span><span class=\"txto\">i-</span><span class=\"txto\">le-</span><span class=\"txto\">e</span></span></td></tr>\n",
            "<tr class=\"tf ltr\"><td class=\"tf ltr\">4</td><td class=\"tf ltr\"><span class=\"tfsechead ltr\"><span class=\"ltr\">P390626 obverse:4 => https:/cdli.ucla.edu/search/search_results.php?SearchMode=Text&ObjectID=P390626</span></span></td><td class=\"tf ltr\"><span class=\" ubd pl-mode\"><span class=\"txto\">e-</span><span class=\"txto\">ta-</span><span class=\"txto\">wu-</span><span class=\"txto\">ni </span><span class=\"txto\">{d}</span><span class=\"txto\">iszkur </span><span class=\"txto\">da-</span><span class=\"txto\">nu-</span><span class=\"txto\">tam2</span></span></td></tr>\n",
            "<tr class=\"tf ltr\"><td class=\"tf ltr\">5</td><td class=\"tf ltr\"><span class=\"tfsechead ltr\"><span class=\"ltr\">P390626 obverse:5 => https:/cdli.ucla.edu/search/search_results.php?SearchMode=Text&ObjectID=P390626</span></span></td><td class=\"tf ltr\"><span class=\" ubd pl-mode\"><span class=\"txto\">i-</span><span class=\"txto\">di2-</span><span class=\"txto\">szu-</span><span class=\"txto\">ma </span><span class=\"txto\">isz-</span><span class=\"txto\">tu3 </span><span class=\"txto\">s,i2-</span><span class=\"txto\">it</span></span></td></tr>\n",
            "<tr class=\"tf ltr\"><td class=\"tf ltr\">6</td><td class=\"tf ltr\"><span class=\"tfsechead ltr\"><span class=\"ltr\">P390626 obverse:6 => https:/cdli.ucla.edu/search/search_results.php?SearchMode=Text&ObjectID=P390626</span></span></td><td class=\"tf ltr\"><span class=\" ubd pl-mode\"><span class=\"txto\">sza-</span><span class=\"txto\">am-</span><span class=\"txto\">szi2-</span><span class=\"txto\">im </span><span class=\"txto\">a-</span><span class=\"txto\">di2 </span><span class=\"txto\">e-</span><span class=\"txto\">ra-</span><span class=\"txto\">ab2</span></span></td></tr>\n",
            "<tr class=\"tf ltr\"><td class=\"tf ltr\">7</td><td class=\"tf ltr\"><span class=\"tfsechead ltr\"><span class=\"ltr\">P390626 obverse:7 => https:/cdli.ucla.edu/search/search_results.php?SearchMode=Text&ObjectID=P390626</span></span></td><td class=\"tf ltr\"><span class=\" ubd pl-mode\"><span class=\"txto\">sza-</span><span class=\"txto\">am-</span><span class=\"txto\">szi2-</span><span class=\"txto\">im </span><span class=\"txto\">ma-</span><span class=\"txto\">tam2 </span><span class=\"txto\">as,-</span><span class=\"txto\">ba-</span><span class=\"txto\">at-</span><span class=\"txto\">ma</span></span></td></tr>\n",
            "<tr class=\"tf ltr\"><td class=\"tf ltr\">8</td><td class=\"tf ltr\"><span class=\"tfsechead ltr\"><span class=\"ltr\">P390626 obverse:8 => https:/cdli.ucla.edu/search/search_results.php?SearchMode=Text&ObjectID=P390626</span></span></td><td class=\"tf ltr\"><span class=\" ubd pl-mode\"><span class=\"txto\">i-</span><span class=\"txto\">na </span><span class=\"txto\">u4-</span><span class=\"txto\">mi3-</span><span class=\"txto\">im </span><span class=\"txto\">isz-</span><span class=\"txto\">te2-</span><span class=\"txto\">en6</span></span></td></tr>\n",
            "<tr class=\"tf ltr\"><td class=\"tf ltr\">9</td><td class=\"tf ltr\"><span class=\"tfsechead ltr\"><span class=\"ltr\">P390626 obverse:9 => https:/cdli.ucla.edu/search/search_results.php?SearchMode=Text&ObjectID=P390626</span></span></td><td class=\"tf ltr\"><span class=\" ubd pl-mode\"><span class=\"txto\">a-</span><span class=\"txto\">na </span><span class=\"txto\">7(u) </span><span class=\"txto\">a-</span><span class=\"txto\">la2-</span><span class=\"txto\">ni </span><span class=\"txto\">ka3-</span><span class=\"txto\">ka3-</span><span class=\"txto\">am </span><span class=\"txto\">a-</span><span class=\"txto\">di2-</span><span class=\"txto\">in</span></span></td></tr>\n",
            "<tr class=\"tf ltr\"><td class=\"tf ltr\">10</td><td class=\"tf ltr\"><span class=\"tfsechead ltr\"><span class=\"ltr\">P390626 obverse:10 => https:/cdli.ucla.edu/search/search_results.php?SearchMode=Text&ObjectID=P390626</span></span></td><td class=\"tf ltr\"><span class=\" ubd pl-mode\"><span class=\"txto\">ru-</span><span class=\"txto\">ba-</span><span class=\"txto\">e-</span><span class=\"txto\">szu-</span><span class=\"txto\">nu </span><span class=\"txto\">u2-</span><span class=\"txto\">s,a-</span><span class=\"txto\">bi4-</span><span class=\"txto\">it </span><span class=\"txto\">u3 </span><span class=\"txto\">a-</span><span class=\"txto\">li-</span><span class=\"txto\">szu-</span><span class=\"txto\">nu</span></span></td></tr></table>\n"
          ]
        }
      ],
      "source": [
        "results = A.search(query)\n",
        "A.table(results, end=10)"
      ]
    },
    {
      "cell_type": "code",
      "execution_count": 61,
      "metadata": {
        "colab": {
          "base_uri": "https://localhost:8080/"
        },
        "id": "XH5YxPsJw9Iu",
        "outputId": "ad8071d8-e360-436c-d805-fef1e8fa9cb8"
      },
      "outputs": [
        {
          "output_type": "stream",
          "name": "stdout",
          "text": [
            "  0.00s Create tsv file ...\n",
            "   |     3.55s   5%   64457 nodes written\n",
            "   |     8.79s  10%  128914 nodes written\n",
            "   |       12s  15%  193371 nodes written\n",
            "   |       16s  20%  257828 nodes written\n",
            "   |       21s  25%  322285 nodes written\n",
            "   |       25s  30%  386742 nodes written\n",
            "   |       28s  35%  451199 nodes written\n",
            "   |       32s  40%  515656 nodes written\n",
            "   |       37s  45%  580113 nodes written\n",
            "   |       41s  50%  644570 nodes written\n",
            "   |       45s  55%  709027 nodes written\n",
            "   |       50s  60%  773484 nodes written\n",
            "   |       53s  65%  837941 nodes written\n",
            "   |       57s  70%  902398 nodes written\n",
            "   |    1m 01s  75%  966855 nodes written\n",
            "   |    1m 06s  80% 1031312 nodes written\n",
            "   |    1m 09s  85% 1095769 nodes written\n",
            "   |    1m 13s  90% 1160226 nodes written\n",
            "   |    1m 18s  95% 1224683 nodes written\n",
            "   |    1m 22s 100% 1289140 nodes written\n",
            "   |    1m 22s 100% 1289143 nodes written and done\n",
            " 1m 22s TSV file is ~/text-fabric-data/github/Nino-cunei/oldassyrian/_temp/data-0.1.tsv\n",
            " 1m 22s Columns 71:\n",
            " 1m 22s \tnd\n",
            " 1m 22s \totype\n",
            " 1m 22s \tafter\n",
            " 1m 22s \tafterr\n",
            " 1m 22s \tafteru\n",
            " 1m 22s \tatf\n",
            " 1m 22s \tatfpost\n",
            " 1m 22s \tatfpre\n",
            " 1m 22s \tsym\n",
            " 1m 22s \tsymr\n",
            " 1m 22s \tsymu\n",
            " 1m 22s \tin_document\n",
            " 1m 22s \tin_face\n",
            " 1m 22s \tin_line\n",
            " 1m 22s \tin_word\n",
            " 1m 22s \tin_cluster\n",
            " 1m 22s \tin_sign\n",
            " 1m 22s \tARK\n",
            " 1m 22s \tauthor\n",
            " 1m 22s \tcol\n",
            " 1m 22s \tcollection\n",
            " 1m 22s \tcomment\n",
            " 1m 22s \tdamage\n",
            " 1m 22s \tdet\n",
            " 1m 22s \tdocnote\n",
            " 1m 22s \tdocnumber\n",
            " 1m 22s \texcavation\n",
            " 1m 22s \texcised\n",
            " 1m 22s \tface\n",
            " 1m 22s \tflags\n",
            " 1m 22s \tfraction\n",
            " 1m 22s \tgenre\n",
            " 1m 22s \tgrapheme\n",
            " 1m 22s \tgraphemer\n",
            " 1m 22s \tgraphemeu\n",
            " 1m 22s \tlang\n",
            " 1m 22s \tlangalt\n",
            " 1m 22s \tln\n",
            " 1m 22s \tlnc\n",
            " 1m 22s \tlnno\n",
            " 1m 22s \tmaterial\n",
            " 1m 22s \tmissing\n",
            " 1m 22s \tmuseumcode\n",
            " 1m 22s \tmuseumname\n",
            " 1m 22s \tobject\n",
            " 1m 22s \toperator\n",
            " 1m 22s \toperatorr\n",
            " 1m 22s \toperatoru\n",
            " 1m 22s \tperiod\n",
            " 1m 22s \tpnumber\n",
            " 1m 22s \tprimecol\n",
            " 1m 22s \tprimeln\n",
            " 1m 22s \tpubdate\n",
            " 1m 22s \tquestion\n",
            " 1m 22s \treading\n",
            " 1m 22s \treadingr\n",
            " 1m 22s \treadingu\n",
            " 1m 22s \tremarkable\n",
            " 1m 22s \tremarks\n",
            " 1m 22s \trepeat\n",
            " 1m 22s \tsrcLn\n",
            " 1m 22s \tsrcLnNum\n",
            " 1m 22s \tsrcfile\n",
            " 1m 22s \tsubgenre\n",
            " 1m 22s \tsupplied\n",
            " 1m 22s \ttrans\n",
            " 1m 22s \ttranscriber\n",
            " 1m 22s \ttype\n",
            " 1m 22s \tuncertain\n",
            " 1m 22s \tversion\n",
            " 1m 22s \tvolume\n",
            "\n",
            " 1m 23s \t1289144 rows\n",
            " 1m 23s \t170163254 characters\n",
            " 1m 23s Importing into Pandas ...\n",
            "   |     0.00s Reading tsv file ...\n",
            "   |       24s Done. Size = 91529153\n",
            "   |       24s Saving as Parquet file ...\n",
            "   |       30s Saved\n",
            " 1m 53s PD  in ~/text-fabric-data/github/Nino-cunei/oldassyrian/pandas/data-0.1.pd\n"
          ]
        }
      ],
      "source": [
        "A.exportPandas()"
      ]
    },
    {
      "cell_type": "markdown",
      "metadata": {
        "id": "WWSO7bAEPAcc"
      },
      "source": [
        "#Using New Notebook Tutorial - \"Generate plain text plus line numbers\"\n",
        "[Notebook in this link](https://nbviewer.org/github/Nino-cunei/oldbabylonian/blob/master/tutorial/cookbook/plainPlusId.ipynb)"
      ]
    },
    {
      "cell_type": "code",
      "execution_count": 62,
      "metadata": {
        "id": "JsL4JmERPLtp"
      },
      "outputs": [],
      "source": [
        "from tf.core.files import expanduser as ex, unexpanduser as ux, dirMake\n"
      ]
    },
    {
      "cell_type": "code",
      "execution_count": 63,
      "metadata": {
        "id": "M8AjnxymPXha"
      },
      "outputs": [],
      "source": [
        "corpora = [\"oldbabylonian\", \"oldassyrian\"]"
      ]
    },
    {
      "cell_type": "code",
      "execution_count": 64,
      "metadata": {
        "colab": {
          "base_uri": "https://localhost:8080/"
        },
        "id": "VgO7hqyJP3Er",
        "outputId": "86ce9ff4-0c14-4139-9d1d-c6ce4221e8d3"
      },
      "outputs": [
        {
          "output_type": "stream",
          "name": "stdout",
          "text": [
            "**Locating corpus resources ...**\n",
            "The requested app is not available offline\n",
            "\t~/text-fabric-data/github/Nino-cunei/oldbabylonian/app not found\n",
            "Status: latest release online v1.6 versus None locally\n",
            "downloading app, main data and requested additions ...\n",
            "app: ~/text-fabric-data/github/Nino-cunei/oldbabylonian/app\n",
            "data: ~/text-fabric-data/github/Nino-cunei/oldbabylonian/tf/1.0.6\n",
            "   |     0.28s T otype                from ~/text-fabric-data/github/Nino-cunei/oldbabylonian/tf/1.0.6\n",
            "   |     4.43s T oslots               from ~/text-fabric-data/github/Nino-cunei/oldbabylonian/tf/1.0.6\n",
            "   |     0.11s T atfpost              from ~/text-fabric-data/github/Nino-cunei/oldbabylonian/tf/1.0.6\n",
            "   |     1.34s T atf                  from ~/text-fabric-data/github/Nino-cunei/oldbabylonian/tf/1.0.6\n",
            "   |     1.33s T sym                  from ~/text-fabric-data/github/Nino-cunei/oldbabylonian/tf/1.0.6\n",
            "   |     1.38s T symu                 from ~/text-fabric-data/github/Nino-cunei/oldbabylonian/tf/1.0.6\n",
            "   |     1.00s T after                from ~/text-fabric-data/github/Nino-cunei/oldbabylonian/tf/1.0.6\n",
            "   |     0.25s T afteru               from ~/text-fabric-data/github/Nino-cunei/oldbabylonian/tf/1.0.6\n",
            "   |     0.12s T lnno                 from ~/text-fabric-data/github/Nino-cunei/oldbabylonian/tf/1.0.6\n",
            "   |     1.40s T symr                 from ~/text-fabric-data/github/Nino-cunei/oldbabylonian/tf/1.0.6\n",
            "   |     0.13s T atfpre               from ~/text-fabric-data/github/Nino-cunei/oldbabylonian/tf/1.0.6\n",
            "   |     0.01s T pnumber              from ~/text-fabric-data/github/Nino-cunei/oldbabylonian/tf/1.0.6\n",
            "   |     0.01s T face                 from ~/text-fabric-data/github/Nino-cunei/oldbabylonian/tf/1.0.6\n",
            "   |     1.03s T afterr               from ~/text-fabric-data/github/Nino-cunei/oldbabylonian/tf/1.0.6\n",
            "   |      |     0.09s C __levels__           from otype, oslots, otext\n",
            "   |      |     3.01s C __order__            from otype, oslots, __levels__\n",
            "   |      |     0.25s C __rank__             from otype, __order__\n",
            "   |      |     4.30s C __levUp__            from otype, oslots, __rank__\n",
            "   |      |     2.13s C __levDown__          from otype, __levUp__, __rank__\n",
            "   |      |     0.44s C __characters__       from otext\n",
            "   |      |     1.86s C __boundary__         from otype, oslots, __rank__\n",
            "   |      |     0.69s C __sections__         from otype, oslots, otext, __levUp__, __levDown__, __levels__, pnumber, face, lnno\n",
            "   |     0.01s T ARK                  from ~/text-fabric-data/github/Nino-cunei/oldbabylonian/tf/1.0.6\n",
            "   |     0.01s T author               from ~/text-fabric-data/github/Nino-cunei/oldbabylonian/tf/1.0.6\n",
            "   |     0.00s T col                  from ~/text-fabric-data/github/Nino-cunei/oldbabylonian/tf/1.0.6\n",
            "   |     0.00s T collated             from ~/text-fabric-data/github/Nino-cunei/oldbabylonian/tf/1.0.6\n",
            "   |     0.01s T collection           from ~/text-fabric-data/github/Nino-cunei/oldbabylonian/tf/1.0.6\n",
            "   |     0.01s T comment              from ~/text-fabric-data/github/Nino-cunei/oldbabylonian/tf/1.0.6\n",
            "   |     0.04s T damage               from ~/text-fabric-data/github/Nino-cunei/oldbabylonian/tf/1.0.6\n",
            "   |     0.03s T det                  from ~/text-fabric-data/github/Nino-cunei/oldbabylonian/tf/1.0.6\n",
            "   |     0.00s T docnote              from ~/text-fabric-data/github/Nino-cunei/oldbabylonian/tf/1.0.6\n",
            "   |     0.01s T docnumber            from ~/text-fabric-data/github/Nino-cunei/oldbabylonian/tf/1.0.6\n",
            "   |     0.00s T excavation           from ~/text-fabric-data/github/Nino-cunei/oldbabylonian/tf/1.0.6\n",
            "   |     0.00s T excised              from ~/text-fabric-data/github/Nino-cunei/oldbabylonian/tf/1.0.6\n",
            "   |     0.05s T flags                from ~/text-fabric-data/github/Nino-cunei/oldbabylonian/tf/1.0.6\n",
            "   |     0.00s T fraction             from ~/text-fabric-data/github/Nino-cunei/oldbabylonian/tf/1.0.6\n",
            "   |     0.01s T genre                from ~/text-fabric-data/github/Nino-cunei/oldbabylonian/tf/1.0.6\n",
            "   |     0.02s T grapheme             from ~/text-fabric-data/github/Nino-cunei/oldbabylonian/tf/1.0.6\n",
            "   |     0.02s T graphemer            from ~/text-fabric-data/github/Nino-cunei/oldbabylonian/tf/1.0.6\n",
            "   |     0.02s T graphemeu            from ~/text-fabric-data/github/Nino-cunei/oldbabylonian/tf/1.0.6\n",
            "   |     0.01s T lang                 from ~/text-fabric-data/github/Nino-cunei/oldbabylonian/tf/1.0.6\n",
            "   |     0.08s T langalt              from ~/text-fabric-data/github/Nino-cunei/oldbabylonian/tf/1.0.6\n",
            "   |     0.11s T ln                   from ~/text-fabric-data/github/Nino-cunei/oldbabylonian/tf/1.0.6\n",
            "   |     0.01s T lnc                  from ~/text-fabric-data/github/Nino-cunei/oldbabylonian/tf/1.0.6\n",
            "   |     0.01s T material             from ~/text-fabric-data/github/Nino-cunei/oldbabylonian/tf/1.0.6\n",
            "   |     0.06s T missing              from ~/text-fabric-data/github/Nino-cunei/oldbabylonian/tf/1.0.6\n",
            "   |     0.01s T museumcode           from ~/text-fabric-data/github/Nino-cunei/oldbabylonian/tf/1.0.6\n",
            "   |     0.01s T museumname           from ~/text-fabric-data/github/Nino-cunei/oldbabylonian/tf/1.0.6\n",
            "   |     0.01s T object               from ~/text-fabric-data/github/Nino-cunei/oldbabylonian/tf/1.0.6\n",
            "   |     0.00s T operator             from ~/text-fabric-data/github/Nino-cunei/oldbabylonian/tf/1.0.6\n",
            "   |     0.00s T operatorr            from ~/text-fabric-data/github/Nino-cunei/oldbabylonian/tf/1.0.6\n",
            "   |     0.00s T operatoru            from ~/text-fabric-data/github/Nino-cunei/oldbabylonian/tf/1.0.6\n",
            "   |     0.01s T period               from ~/text-fabric-data/github/Nino-cunei/oldbabylonian/tf/1.0.6\n",
            "   |     0.00s T primecol             from ~/text-fabric-data/github/Nino-cunei/oldbabylonian/tf/1.0.6\n",
            "   |     0.01s T primeln              from ~/text-fabric-data/github/Nino-cunei/oldbabylonian/tf/1.0.6\n",
            "   |     0.01s T pubdate              from ~/text-fabric-data/github/Nino-cunei/oldbabylonian/tf/1.0.6\n",
            "   |     0.00s T question             from ~/text-fabric-data/github/Nino-cunei/oldbabylonian/tf/1.0.6\n",
            "   |     0.91s T reading              from ~/text-fabric-data/github/Nino-cunei/oldbabylonian/tf/1.0.6\n",
            "   |     0.92s T readingr             from ~/text-fabric-data/github/Nino-cunei/oldbabylonian/tf/1.0.6\n",
            "   |     1.57s T readingu             from ~/text-fabric-data/github/Nino-cunei/oldbabylonian/tf/1.0.6\n",
            "   |     0.00s T remarkable           from ~/text-fabric-data/github/Nino-cunei/oldbabylonian/tf/1.0.6\n",
            "   |     0.00s T remarks              from ~/text-fabric-data/github/Nino-cunei/oldbabylonian/tf/1.0.6\n",
            "   |     0.02s T repeat               from ~/text-fabric-data/github/Nino-cunei/oldbabylonian/tf/1.0.6\n",
            "   |     0.36s T srcLn                from ~/text-fabric-data/github/Nino-cunei/oldbabylonian/tf/1.0.6\n",
            "   |     0.22s T srcLnNum             from ~/text-fabric-data/github/Nino-cunei/oldbabylonian/tf/1.0.6\n",
            "   |     0.26s T srcfile              from ~/text-fabric-data/github/Nino-cunei/oldbabylonian/tf/1.0.6\n",
            "   |     0.00s T subgenre             from ~/text-fabric-data/github/Nino-cunei/oldbabylonian/tf/1.0.6\n",
            "   |     0.00s T supplied             from ~/text-fabric-data/github/Nino-cunei/oldbabylonian/tf/1.0.6\n",
            "   |     0.00s T trans                from ~/text-fabric-data/github/Nino-cunei/oldbabylonian/tf/1.0.6\n",
            "   |     0.01s T transcriber          from ~/text-fabric-data/github/Nino-cunei/oldbabylonian/tf/1.0.6\n",
            "   |     0.00s T translation@en       from ~/text-fabric-data/github/Nino-cunei/oldbabylonian/tf/1.0.6\n",
            "   |     1.74s T type                 from ~/text-fabric-data/github/Nino-cunei/oldbabylonian/tf/1.0.6\n",
            "   |     0.01s T uncertain            from ~/text-fabric-data/github/Nino-cunei/oldbabylonian/tf/1.0.6\n",
            "   |     0.01s T volume               from ~/text-fabric-data/github/Nino-cunei/oldbabylonian/tf/1.0.6\n",
            "TF:\n",
            "\tTF API 13.0.13 => https:/annotation.github.io/text-fabric/tf/cheatsheet.html\n",
            "\tNino-cunei/oldbabylonian/app  v3 => https:/github.com/Nino-cunei/oldbabylonian/blob/master/app\n",
            "\tSearch Reference => https:/annotation.github.io/text-fabric/tf/about/searchusage.html\n",
            "Data:\n",
            "\tNino-cunei - oldbabylonian 1.0.6 => https:/github.com/Nino-cunei/oldbabylonian/blob/master/docs/about.md\n",
            "\tCharacter table => https:/nbviewer.jupyter.org/github/Nino-cunei/tfFromAtf/blob/master/programs/mapReadings.ipynb\n",
            "\tFeature docs => https:/github.com/Nino-cunei/tfFromAtf/blob/master/docs/transcription.md\n",
            "Node types:\n",
            "document                1285   158.15 =     100\n",
            "face                    2834    71.71 =     100\n",
            "line                   27375     7.42 =     100\n",
            "word                   76505     2.64 =     100\n",
            "cluster                23449     1.78        21\n",
            "*sign*                203219     1.00 =     100\n",
            "\n",
            " Sets: \n",
            " Features:\n",
            "Old Babylonian Letters 1900-1600: Cuneiform tablets\n",
            "\tARK                  persistent identifier of type ARK from metadata field \"UCLA Library ARK\"\n",
            "\tafter                what comes after a sign or word (- or space)\n",
            "\tafterr               what comes after a sign or word (- or space); between adjacent signs a ␣ is inserted\n",
            "\tafteru               what comes after a sign when represented as unicode (space)\n",
            "\tatf                  full atf of a sign (without cluster chars) or word (including cluster chars)\n",
            "\tatfpost              atf of cluster closings at sign\n",
            "\tatfpre               atf of cluster openings at sign\n",
            "\tauthor               author from metadata field \"Author(s)\"\n",
            "\tcol                  ATF column number\n",
            "\tcollated             whether a sign is collated (*)\n",
            "\tcollection           collection of a document\n",
            "\tcomment              $ comment to line or inline comment to slot ($ and $)\n",
            "\tdamage               whether a sign is damaged\n",
            "\tdet                  whether a sign is a determinative gloss - between braces { }\n",
            "\tdocnote              additional remarks in the document identification\n",
            "\tdocnumber            number of a document within a collection-volume\n",
            "\texcavation           excavation number from metadata field \"Excavation no.\"\n",
            "\texcised              whether a sign is excised - between double angle brackets << >>\n",
            "\tface                 full name of a face including the enclosing object\n",
            "\tflags                sequence of flags after a sign\n",
            "\tfraction             fraction of a numeral\n",
            "\tgenre                genre from metadata field \"Genre\"\n",
            "\tgrapheme             grapheme of a sign\n",
            "\tgraphemer            grapheme of a sign using non-ascii characters\n",
            "\tgraphemeu            grapheme of a sign using cuneiform unicode characters\n",
            "\tlang                 language of a document\n",
            "\tlangalt              1 if a sign is in the alternate language (i.e. Sumerian) - between underscores _ _\n",
            "\tln                   ATF line number of a numbered line, without prime\n",
            "\tlnc                  ATF line identification of a comment line ($)\n",
            "\tlnno                 ATF line number, may be $ or #, with prime; column number prepended\n",
            "\tmaterial             material indication from metadata field \"Material\"\n",
            "\tmissing              whether a sign is missing - between square brackets [ ]\n",
            "\tmuseumcode           museum code from metadata field \"Museum no.\"\n",
            "\tmuseumname           museum name from metadata field \"Collection\"\n",
            "\tobject               name of an object of a document\n",
            "\toperator             the ! or x in a !() or x() construction\n",
            "\toperatorr            the ! or x in a !() or x() construction, represented as =, ␣\n",
            "\toperatoru            the ! or x in a !() or x() construction, represented as =, ␣\n",
            "\totype                \n",
            "\tperiod               period indication from metadata field \"Period\"\n",
            "\tpnumber              P number of a document\n",
            "\tprimecol             whether a prime is present on a column number\n",
            "\tprimeln              whether a prime is present on a line number\n",
            "\tpubdate              publication date from metadata field \"Publication date\"\n",
            "\tquestion             whether a sign has the question flag (?)\n",
            "\treading              reading of a sign\n",
            "\treadingr             reading of a sign using non-ascii characters\n",
            "\treadingu             reading of a sign using cuneiform unicode characters\n",
            "\tremarkable           whether a sign is remarkable (!)\n",
            "\tremarks              # comment to line\n",
            "\trepeat               repeat of a numeral; the value n (unknown) is represented as -1\n",
            "\tsrcLn                full line in source file\n",
            "\tsrcLnNum             line number in source file\n",
            "\tsrcfile              source file name of a document\n",
            "\tsubgenre             genre from metadata field \"Sub-genre\"\n",
            "\tsupplied             whether a sign is supplied - between angle brackets < >\n",
            "\tsym                  essential part of a sign or of a word\n",
            "\tsymr                 essential part of a sign or of a word using non-ascii characters\n",
            "\tsymu                 essential part of a sign or of a word using cuneiform unicode characters\n",
            "\ttrans                whether a line has a translation\n",
            "\ttranscriber          person who did the encoding into ATF from metadata field \"ATF source\"\n",
            "\ttranslation@ll       translation of line in language en = English\n",
            "\ttype                 name of a type of cluster or kind of sign\n",
            "\tuncertain            whether a sign is uncertain - between brackets ( )\n",
            "\tvolume               volume of a document within a collection\n",
            "\toslots               \n",
            "\n",
            "**Locating corpus resources ...**\n",
            "app: ~/text-fabric-data/github/Nino-cunei/oldassyrian/app\n",
            "data: ~/text-fabric-data/github/Nino-cunei/oldassyrian/tf/0.1\n",
            "TF:\n",
            "\tTF API 13.0.13 => https:/annotation.github.io/text-fabric/tf/cheatsheet.html\n",
            "\tNino-cunei/oldassyrian/app  v3 => https:/github.com/Nino-cunei/oldassyrian/blob/master/app\n",
            "\tSearch Reference => https:/annotation.github.io/text-fabric/tf/about/searchusage.html\n",
            "Data:\n",
            "\tNino-cunei - oldassyrian 0.1 => https:/github.com/Nino-cunei/oldassyrian/blob/master/docs/about.md\n",
            "\tCharacter table => https:/nbviewer.jupyter.org/github/Nino-cunei/tfFromAtf/blob/master/programs/mapReadings.ipynb\n",
            "\tFeature docs => https:/github.com/Nino-cunei/tfFromAtf/blob/master/docs/transcription.md\n",
            "Node types:\n",
            "document                4775   160.52 =     100\n",
            "face                   11910    64.36 =     100\n",
            "line                  109860     6.98 =     100\n",
            "word                  314012     2.37        97\n",
            "cluster                82085     1.71        18\n",
            "*sign*                766501     1.00 =     100\n",
            "\n",
            " Sets: \n",
            " Features:\n",
            "Old Assyrian Documents 2000-1600: Cuneiform tablets\n",
            "\tARK                  persistent identifier of type ARK from metadata field \"UCLA Library ARK\"\n",
            "\tafter                what comes after a sign or word (- or space)\n",
            "\tafterr               what comes after a sign or word (- or space); between adjacent signs a ␣ is inserted\n",
            "\tafteru               what comes after a sign when represented as unicode (space)\n",
            "\tatf                  full atf of a sign (without cluster chars) or word (including cluster chars)\n",
            "\tatfpost              atf of cluster closings at sign\n",
            "\tatfpre               atf of cluster openings at sign\n",
            "\tauthor               author from metadata field \"Author(s)\"\n",
            "\tcol                  ATF column number\n",
            "\tcollection           collection of a document\n",
            "\tcomment              $ comment to line or inline comment to slot ($ and $)\n",
            "\tdamage               whether a sign is damaged\n",
            "\tdet                  whether a sign is a determinative gloss - between braces { }\n",
            "\tdocnote              additional remarks in the document identification\n",
            "\tdocnumber            number of a document within a collection-volume\n",
            "\texcavation           excavation number from metadata field \"Excavation no.\"\n",
            "\texcised              whether a sign is excised - between double angle brackets << >>\n",
            "\tface                 full name of a face including the enclosing object\n",
            "\tflags                sequence of flags after a sign\n",
            "\tfraction             fraction of a numeral\n",
            "\tgenre                genre from metadata field \"Genre\"\n",
            "\tgrapheme             grapheme of a sign\n",
            "\tgraphemer            grapheme of a sign using non-ascii characters\n",
            "\tgraphemeu            grapheme of a sign using cuneiform unicode characters\n",
            "\tlang                 language of a document\n",
            "\tlangalt              1 if a sign is in the alternate language (i.e. Sumerian) - between underscores _ _\n",
            "\tln                   ATF line number of a numbered line, without prime\n",
            "\tlnc                  ATF line identification of a comment line ($)\n",
            "\tlnno                 ATF line number, may be $ or #, with prime; column number prepended\n",
            "\tmaterial             material indication from metadata field \"Material\"\n",
            "\tmissing              whether a sign is missing - between square brackets [ ]\n",
            "\tmuseumcode           museum code from metadata field \"Museum no.\"\n",
            "\tmuseumname           museum name from metadata field \"Collection\"\n",
            "\tobject               name of an object of a document\n",
            "\toperator             the ! or x in a !() or x() construction\n",
            "\toperatorr            the ! or x in a !() or x() construction, represented as =, ␣\n",
            "\toperatoru            the ! or x in a !() or x() construction, represented as =, ␣\n",
            "\totype                \n",
            "\tperiod               period indication from metadata field \"Period\"\n",
            "\tpnumber              P number of a document\n",
            "\tprimecol             whether a prime is present on a column number\n",
            "\tprimeln              whether a prime is present on a line number\n",
            "\tpubdate              publication date from metadata field \"Publication date\"\n",
            "\tquestion             whether a sign has the question flag (?)\n",
            "\treading              reading of a sign\n",
            "\treadingr             reading of a sign using non-ascii characters\n",
            "\treadingu             reading of a sign using cuneiform unicode characters\n",
            "\tremarkable           whether a sign is remarkable (!)\n",
            "\tremarks              # comment to line\n",
            "\trepeat               repeat of a numeral; the value n (unknown) is represented as -1\n",
            "\tsrcLn                full line in source file\n",
            "\tsrcLnNum             line number in source file\n",
            "\tsrcfile              source file name of a document\n",
            "\tsubgenre             genre from metadata field \"Sub-genre\"\n",
            "\tsupplied             whether a sign is supplied - between angle brackets < >\n",
            "\tsym                  essential part of a sign or of a word\n",
            "\tsymr                 essential part of a sign or of a word using non-ascii characters\n",
            "\tsymu                 essential part of a sign or of a word using cuneiform unicode characters\n",
            "\ttrans                whether a line has a translation\n",
            "\ttranscriber          person who did the encoding into ATF from metadata field \"ATF source\"\n",
            "\ttranslation@ll       translation of line in language en = English\n",
            "\ttype                 name of a type of cluster or kind of sign\n",
            "\tuncertain            whether a sign is uncertain - between brackets ( )\n",
            "\tversion              version from meta data line\n",
            "\tvolume               volume of a document within a collection\n",
            "\toslots               \n",
            "\n"
          ]
        }
      ],
      "source": [
        "As = {corpus: use(f\"Nino-cunei/{corpus}\") for corpus in corpora}"
      ]
    },
    {
      "cell_type": "code",
      "execution_count": 65,
      "metadata": {
        "colab": {
          "base_uri": "https://localhost:8080/"
        },
        "id": "oCtnBWOmP4bu",
        "outputId": "8d3772cc-9922-4b14-c529-f2ea2285c4c1"
      },
      "outputs": [
        {
          "output_type": "stream",
          "name": "stdout",
          "text": [
            "  0.48s 9 results\n",
            "<p><b>result</b> <i>1</i>\n",
            "<div class=\"tfsechead \"><span class=\"ltr\">P500644 obverse:1 => https:/cdli.ucla.edu/search/search_results.php?SearchMode=Text&ObjectID=P500644</span></div><div class=\" children pr-mode\"><div class=\"contnr c3    \" ><div class=\"lbl c3  \" ><span class=\"nd\">line </span></div><div class=\"features\"><span class=\"type xft\" ><span class=\"f\">type=</span></span></div><div class=\"children hor wrap \"><div class=\"contnr c0 trm   hl\" ><div class=\"features\"><span class=\"type xft\" ><span class=\"f\">type=</span></span></div></div></div></div></div>\n",
            "<p><b>result</b> <i>2</i>\n",
            "<div class=\"tfsechead \"><span class=\"ltr\">P500644 obverse:2 => https:/cdli.ucla.edu/search/search_results.php?SearchMode=Text&ObjectID=P500644</span></div><div class=\" children pr-mode\"><div class=\"contnr c3    \" ><div class=\"lbl c3  \" ><span class=\"nd\">line </span></div><div class=\"features\"><span class=\"type xft\" ><span class=\"f\">type=</span></span></div><div class=\"children hor wrap \"><div class=\"contnr c0 trm   hl\" ><div class=\"features\"><span class=\"type xft\" ><span class=\"f\">type=</span></span></div></div></div></div></div>\n",
            "<p><b>result</b> <i>3</i>\n",
            "<div class=\"tfsechead \"><span class=\"ltr\">P293749 reverse:6 => https:/cdli.ucla.edu/search/search_results.php?SearchMode=Text&ObjectID=P293749</span></div><div class=\" children pr-mode\"><div class=\"contnr c3    \" ><div class=\"lbl c3  \" ><span class=\"nd\">line </span></div><div class=\"features\"><span class=\"type xft\" ><span class=\"f\">type=</span></span></div><div class=\"children hor wrap \"><div class=\"contnr c0 trm   hl\" ><div class=\"features\"><span class=\"type xft\" ><span class=\"f\">type=</span></span></div></div></div></div></div>\n",
            "<p><b>result</b> <i>4</i>\n",
            "<p><b>result</b> <i>5</i>\n",
            "<div class=\"tfsechead \"><span class=\"ltr\">P297281 obverse:1 => https:/cdli.ucla.edu/search/search_results.php?SearchMode=Text&ObjectID=P297281</span></div><div class=\" children pr-mode\"><div class=\"contnr c3    \" ><div class=\"lbl c3  \" ><span class=\"nd\">line </span></div><div class=\"features\"><span class=\"type xft\" ><span class=\"f\">type=</span></span></div><div class=\"children hor wrap \"><div class=\"contnr c0 trm   hl\" ><div class=\"features\"><span class=\"type xft\" ><span class=\"f\">type=</span></span></div></div></div></div></div>\n",
            "<p><b>result</b> <i>6</i>\n",
            "<div class=\"tfsechead \"><span class=\"ltr\">P359713 obverse:19 => https:/cdli.ucla.edu/search/search_results.php?SearchMode=Text&ObjectID=P359713</span></div><div class=\" children pr-mode\"><div class=\"contnr c3    \" ><div class=\"lbl c3  \" ><span class=\"nd\">line </span></div><div class=\"features\"><span class=\"type xft\" ><span class=\"f\">type=</span></span></div><div class=\"children hor wrap \"><div class=\"contnr c0 trm   hl\" ><div class=\"features\"><span class=\"type xft\" ><span class=\"f\">type=</span></span></div></div></div></div></div>\n",
            "<p><b>result</b> <i>7</i>\n",
            "<div class=\"tfsechead \"><span class=\"ltr\">P359115 reverse:1 => https:/cdli.ucla.edu/search/search_results.php?SearchMode=Text&ObjectID=P359115</span></div><div class=\" children pr-mode\"><div class=\"contnr c3    \" ><div class=\"lbl c3  \" ><span class=\"nd\">line </span></div><div class=\"features\"><span class=\"type xft\" ><span class=\"f\">type=</span></span></div><div class=\"children hor wrap \"><div class=\"contnr c0 trm   hl\" ><div class=\"features\"><span class=\"type xft\" ><span class=\"f\">type=</span></span></div></div></div></div></div>\n",
            "<p><b>result</b> <i>8</i>\n",
            "<div class=\"tfsechead \"><span class=\"ltr\">P357509 obverse:1 => https:/cdli.ucla.edu/search/search_results.php?SearchMode=Text&ObjectID=P357509</span></div><div class=\" children pr-mode\"><div class=\"contnr c3    \" ><div class=\"lbl c3  \" ><span class=\"nd\">line </span></div><div class=\"features\"><span class=\"type xft\" ><span class=\"f\">type=</span></span></div><div class=\"children hor wrap \"><div class=\"contnr c0 trm   hl\" ><div class=\"features\"><span class=\"type xft\" ><span class=\"f\">type=</span></span></div></div></div></div></div>\n",
            "<p><b>result</b> <i>9</i>\n",
            "<div class=\"tfsechead \"><span class=\"ltr\">P358256 envelope - reverse:11 => https:/cdli.ucla.edu/search/search_results.php?SearchMode=Text&ObjectID=P358256</span></div><div class=\" children pr-mode\"><div class=\"contnr c3    \" ><div class=\"lbl c3  \" ><span class=\"nd\">line </span></div><div class=\"features\"><span class=\"type xft\" ><span class=\"f\">type=</span></span></div><div class=\"children hor wrap \"><div class=\"contnr c0 trm   hl\" ><div class=\"features\"><span class=\"type xft\" ><span class=\"f\">type=</span></span></div></div></div></div></div>\n"
          ]
        }
      ],
      "source": [
        "Assyrian = As[corpora[-1]]\n",
        "\n",
        "results = Assyrian.search(\n",
        "\"\"\"\n",
        "sign type#\n",
        "\"\"\"\n",
        ")\n",
        "Assyrian.show(results, noneValues=set())"
      ]
    },
    {
      "cell_type": "code",
      "execution_count": 66,
      "metadata": {
        "id": "8UfOIQ9QR93F",
        "colab": {
          "base_uri": "https://localhost:8080/"
        },
        "outputId": "7a92ec07-9e80-4754-ef2a-a96b503b07a8"
      },
      "outputs": [
        {
          "output_type": "stream",
          "name": "stdout",
          "text": [
            "Corpus **oldbabylonian** exported to files\n",
            "\n",
            "* `/content/drive/MyDrive/oldbabylonian-lines.csv`\n",
            "* `/content/drive/MyDrive/oldbabylonian-words.csv`\n",
            "\n",
            "Corpus **oldassyrian** exported to files\n",
            "\n",
            "* `/content/drive/MyDrive/oldassyrian-lines.csv`\n",
            "* `/content/drive/MyDrive/oldassyrian-words.csv`\n",
            "\n"
          ]
        }
      ],
      "source": [
        "TOF = \"text-orig-full\"\n",
        "TOP = \"text-orig-plain\"\n",
        "TOR = \"text-orig-rich\"\n",
        "TOU = \"text-orig-unicode\"\n",
        "\n",
        "\n",
        "\n",
        "DEST = \"/content/drive/MyDrive\"\n",
        "dirMake(DEST)\n",
        "\n",
        "for corpus in corpora:\n",
        "    A = As[corpus]\n",
        "    F = A.api.F\n",
        "    L = A.api.L\n",
        "    T = A.api.T\n",
        "\n",
        "    fileByLine = f\"{DEST}/{corpus}-lines.csv\"\n",
        "    fileByWord = f\"{DEST}/{corpus}-words.csv\"\n",
        "\n",
        "    with open(fileByLine, \"w\") as flh:\n",
        "        with open(fileByWord, \"w\") as fwh:\n",
        "\n",
        "            for tablet in F.otype.s(\"document\"):\n",
        "                pnumber = F.pnumber.v(tablet)\n",
        "\n",
        "                for face in L.d(tablet, otype=\"face\"):\n",
        "                    facetag = F.face.v(face)\n",
        "\n",
        "                    for (n, line) in enumerate(L.d(face, otype=\"line\")):\n",
        "                        lnumber = F.lnno.v(line)\n",
        "\n",
        "                        tof = T.text(line, fmt=TOF)\n",
        "                        top = T.text(line, fmt=TOP)\n",
        "                        tor = T.text(line, fmt=TOR)\n",
        "                        tou = T.text(line, fmt=TOU)\n",
        "\n",
        "                        flh.write(f\"{pnumber}:{facetag}.{lnumber}\\t{n + 1}\\t{tof}\\t{top}\\t{tor}\\t{tou}\\n\")\n",
        "\n",
        "                        for (w, word) in enumerate(L.d(line, otype=\"word\")):\n",
        "                            tof = T.text(word, fmt=TOF)\n",
        "                            top = T.text(word, fmt=TOP)\n",
        "                            tor = T.text(word, fmt=TOR)\n",
        "                            tou = T.text(word, fmt=TOU)\n",
        "\n",
        "                            fwh.write(f\"{pnumber}:{facetag}.{lnumber}.{w + 1}\\t{n + 1}\\t{tof}\\t{top}\\t{tor}\\t{tou}\\n\")\n",
        "\n",
        "    A.dm(f\"\"\"\n",
        "Corpus **{corpus}** exported to files\n",
        "\n",
        "* `{ux(fileByLine)}`\n",
        "* `{ux(fileByWord)}`\n",
        "\n",
        "\"\"\")"
      ]
    },
    {
      "cell_type": "code",
      "execution_count": 67,
      "metadata": {
        "colab": {
          "base_uri": "https://localhost:8080/"
        },
        "id": "HyGCMHX8RKX9",
        "outputId": "80f8b137-3503-4726-baf7-dc4b44da50a9"
      },
      "outputs": [
        {
          "output_type": "stream",
          "name": "stdout",
          "text": [
            "P509373:obverse.1\t1\t[a-na] _{d}suen_-i-[din-nam]\ta-na d⁼suen-i-din-nam\ta-na d⁼suen-i-din-nam\t𒀀𒈾 𒀭𒂗𒍪𒄿𒁷𒉆\n",
            "P509373:obverse.2\t2\tqi2-bi2-[ma]\tqi2-bi2-ma\tqi₂-bi₂-ma\t𒆠𒉈𒈠\n",
            "P509373:obverse.3\t3\tum-ma _{d}en-lil2_-sza-du-u2-ni-ma\tum-ma d⁼en-lil2-sza-du-u2-ni-ma\tum-ma d⁼en-lil₂-ša-du-u₂-ni-ma\t𒌝𒈠 𒀭𒂗𒆤𒊭𒁺𒌑𒉌𒈠\n",
            "P509373:obverse.4\t4\t_{d}utu_ u3 _{d}[marduk]_ a-na da-ri-a-[tim]\td⁼utu u3 d⁼marduk a-na da-ri-a-tim\td⁼utu u₃ d⁼marduk a-na da-ri-a-tim\t𒀭𒌓 𒅇 𒀭𒀫𒌓 𒀀𒈾 𒁕𒊑𒀀𒁴\n",
            "P509373:obverse.5\t5\tli-ba-al-li-t,u2-u2-ka\tli-ba-al-li-t,u2-u2-ka\tli-ba-al-li-ṭu₂-u₂-ka\t𒇷𒁀𒀠𒇷𒌅𒌑𒅗\n",
            "P509373:obverse.6\t6\t{disz}sze-ep-_{d}suen a2-gal2 [dumu] um-mi-a-mesz_\tdisz⁼sze-ep-d⁼suen a2-gal2 dumu um-mi-a-mesz\tdiš⁼še-ep-d⁼suen a₂-gal₂ dumu um-mi-a-meš\t𒁹𒊺𒅁𒀭𒂗𒍪 𒀉𒅅 𒌉 𒌝𒈪𒀀𒈨𒌍\n",
            "P509373:obverse.7\t7\tki-a-am u2-lam-mi-da-an-ni um-[ma] szu-u2-[ma]\tki-a-am u2-lam-mi-da-an-ni um-ma szu-u2-ma\tki-a-am u₂-lam-mi-da-an-ni um-ma šu-u₂-ma\t𒆠𒀀𒄠 𒌑𒇴𒈪𒁕𒀭𒉌 𒌝𒈠 𒋗𒌑𒈠\n",
            "P509373:obverse.8\t8\t{disz}sa-am-su-ba-ah-li sza-pi2-ir ma-[tim]\tdisz⁼sa-am-su-ba-ah-li sza-pi2-ir ma-tim\tdiš⁼sa-am-su-ba-ah-li ša-pi₂-ir ma-tim\t𒁹𒊓𒄠𒋢𒁀𒄴𒇷 𒊭𒁉𒅕 𒈠𒁴\n",
            "P509373:obverse.9\t9\t2(esze3) _a-sza3_ s,i-[bi]-it {disz}[ku]-un-zu-lum _sza3-gud_\t2(esze3) a-sza3 s,i-bi-it disz⁼ku-un-zu-lum sza3-gud\t2(eše₃) a-ša₃ ṣi-bi-it diš⁼ku-un-zu-lum ša₃-gud\t𒑙 𒀀𒊮 𒍢𒁉𒀉 𒁹𒆪𒌦𒍪𒈝 𒊮𒄞\n",
            "P509373:obverse.10\t10\t_a-sza3 a-gar3_ na-ag-[ma-lum] _uru_ x x x{ki}\ta-sza3 a-gar3 na-ag-ma-lum uru x x x⁼ki\ta-ša₃ a-gar₃ na-ag-ma-lum uru x x x⁼ki\t𒀀𒊮 𒀀𒃼 𒈾𒀝𒈠𒈝 𒌷 x x x𒆠\n"
          ]
        }
      ],
      "source": [
        "!head -n 10 {DEST}/oldbabylonian-lines.csv"
      ]
    },
    {
      "cell_type": "code",
      "execution_count": 68,
      "metadata": {
        "id": "2HPpVQYKRSVk",
        "colab": {
          "base_uri": "https://localhost:8080/"
        },
        "outputId": "6b2450a7-7486-4529-a295-2f4462a586a4"
      },
      "outputs": [
        {
          "output_type": "stream",
          "name": "stdout",
          "text": [
            "P509373:obverse.1.1\t1\t[a-na] \ta-na \ta-na \t𒀀𒈾 \n",
            "P509373:obverse.1.2\t1\t_{d}suen_-i-[din-nam]\td⁼suen-i-din-nam\td⁼suen-i-din-nam\t𒀭𒂗𒍪𒄿𒁷𒉆\n",
            "P509373:obverse.2.1\t2\tqi2-bi2-[ma]\tqi2-bi2-ma\tqi₂-bi₂-ma\t𒆠𒉈𒈠\n",
            "P509373:obverse.3.1\t3\tum-ma \tum-ma \tum-ma \t𒌝𒈠 \n",
            "P509373:obverse.3.2\t3\t_{d}en-lil2_-sza-du-u2-ni-ma\td⁼en-lil2-sza-du-u2-ni-ma\td⁼en-lil₂-ša-du-u₂-ni-ma\t𒀭𒂗𒆤𒊭𒁺𒌑𒉌𒈠\n",
            "P509373:obverse.4.1\t4\t_{d}utu_ \td⁼utu \td⁼utu \t𒀭𒌓 \n",
            "P509373:obverse.4.2\t4\tu3 \tu3 \tu₃ \t𒅇 \n",
            "P509373:obverse.4.3\t4\t_{d}[marduk]_ \td⁼marduk \td⁼marduk \t𒀭𒀫𒌓 \n",
            "P509373:obverse.4.4\t4\ta-na \ta-na \ta-na \t𒀀𒈾 \n",
            "P509373:obverse.4.5\t4\tda-ri-a-[tim]\tda-ri-a-tim\tda-ri-a-tim\t𒁕𒊑𒀀𒁴\n"
          ]
        }
      ],
      "source": [
        "!head -n 10 {DEST}/oldbabylonian-words.csv"
      ]
    },
    {
      "cell_type": "markdown",
      "metadata": {
        "id": "eayAHvDMwd0m"
      },
      "source": [
        "####Find the resulting files in MyDrive!\n",
        "\n",
        "1. Corpus **OldBabylonian** exported to files:\n",
        "\n",
        "* MyDrive/oldbabylonian-lines.csv\n",
        "* MyDrive/oldbabylonian-words.csv\n",
        "\n",
        "2. Corpus **OldAssyrian** exported to files:\n",
        "\n",
        "* MyDrive/oldassyrian-lines.csv\n",
        "* MyDrive/oldassyrian-words.csv"
      ]
    }
  ],
  "metadata": {
    "colab": {
      "provenance": []
    },
    "kernelspec": {
      "display_name": "Python 3",
      "name": "python3"
    },
    "language_info": {
      "name": "python"
    }
  },
  "nbformat": 4,
  "nbformat_minor": 0
}